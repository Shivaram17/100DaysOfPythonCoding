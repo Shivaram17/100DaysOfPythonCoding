{
  "nbformat": 4,
  "nbformat_minor": 0,
  "metadata": {
    "colab": {
      "name": "10038RecursionBinarySearch.ipynb",
      "provenance": [],
      "authorship_tag": "ABX9TyMLRFY1Z+juyHmhmfxY3cjB",
      "include_colab_link": true
    },
    "kernelspec": {
      "name": "python3",
      "display_name": "Python 3"
    },
    "language_info": {
      "name": "python"
    }
  },
  "cells": [
    {
      "cell_type": "markdown",
      "metadata": {
        "id": "view-in-github",
        "colab_type": "text"
      },
      "source": [
        "<a href=\"https://colab.research.google.com/github/Shivaram17/100DaysOfPythonCoding/blob/main/10038RecursionBinarySearch.ipynb\" target=\"_parent\"><img src=\"https://colab.research.google.com/assets/colab-badge.svg\" alt=\"Open In Colab\"/></a>"
      ]
    },
    {
      "cell_type": "code",
      "metadata": {
        "colab": {
          "base_uri": "https://localhost:8080/"
        },
        "id": "ZHLwi1EdDQSq",
        "outputId": "0d616f13-a860-4393-b66d-69a5198ea505"
      },
      "source": [
        "# implementation of binary search using recursion \n",
        "def recBinarySearch(target, theSeq, first, last):\n",
        "  # if the sequence cannot divide further then we are done\n",
        "  if first > last:\n",
        "    return False\n",
        "  else:\n",
        "    # find the midpoint \n",
        "    mid = (first + last) // 2\n",
        "    # Does the element at the midpoint contain target\n",
        "    if target == theSeq[mid]:\n",
        "      return print(\"The target \",target, \" is present at position\", mid)\n",
        "    # or does it precede the midpoint\n",
        "    elif target < theSeq[mid]:\n",
        "      return recBinarySearch(target, theSeq, first, mid - 1)\n",
        "    # Or does it follow the midpoint\n",
        "    else:\n",
        "      return recBinarySearch(target, theSeq, mid+1, last)\n",
        "\n",
        "#calling recBinarySearch func\n",
        "theSeq = [1,2,4,6,8,9]\n",
        "first=0\n",
        "last=len(theSeq)\n",
        "recBinarySearch(8,theSeq, first, last)\n",
        "    \n"
      ],
      "execution_count": 3,
      "outputs": [
        {
          "output_type": "stream",
          "name": "stdout",
          "text": [
            "The target  8  is present at position 4\n"
          ]
        }
      ]
    },
    {
      "cell_type": "code",
      "metadata": {
        "id": "QguWZHSiIhXb"
      },
      "source": [
        ""
      ],
      "execution_count": null,
      "outputs": []
    }
  ]
}