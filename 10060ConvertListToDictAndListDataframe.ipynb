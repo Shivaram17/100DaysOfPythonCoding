{
  "nbformat": 4,
  "nbformat_minor": 0,
  "metadata": {
    "colab": {
      "name": "1007AcctDemoReSplitwithoutbrackets.ipynb",
      "provenance": [],
      "authorship_tag": "ABX9TyPnfh0uVGKoxEE46EjUxjGO",
      "include_colab_link": true
    },
    "kernelspec": {
      "name": "python3",
      "display_name": "Python 3"
    },
    "language_info": {
      "name": "python"
    }
  },
  "cells": [
    {
      "cell_type": "markdown",
      "metadata": {
        "id": "view-in-github",
        "colab_type": "text"
      },
      "source": [
        "<a href=\"https://colab.research.google.com/github/Shivaram17/100DaysOfPythonCoding/blob/main/10060ConvertListToDictAndListDataframe.ipynb\" target=\"_parent\"><img src=\"https://colab.research.google.com/assets/colab-badge.svg\" alt=\"Open In Colab\"/></a>"
      ]
    },
    {
      "cell_type": "code",
      "source": [
        "l = [[1,\"adf\", 1, \"drw\", 1, \"dfsf\"], [2,\"dfa\",2,\"fds\", 2,\"dfada\"]]\n",
        "p = []\n",
        "for i in l:\n",
        "  m = list(dict.fromkeys(i))\n",
        "  p.append(m)\n",
        "\n",
        "  "
      ],
      "metadata": {
        "id": "aF1YWgTdT1VH"
      },
      "execution_count": 15,
      "outputs": []
    },
    {
      "cell_type": "markdown",
      "source": [
        "Python – Convert list to Single Dictionary Key Value list"
      ],
      "metadata": {
        "id": "DUqL8-e4CAAB"
      }
    },
    {
      "cell_type": "code",
      "source": [
        "k=0\n",
        "res = []\n",
        "for j in p:\n",
        "  res.append({j[k]: j[:k] + j[k+1:]})\n",
        "res"
      ],
      "metadata": {
        "colab": {
          "base_uri": "https://localhost:8080/"
        },
        "id": "UVFfxL0p-KHf",
        "outputId": "1c533b9d-2c01-4fba-a69f-147c67d8dd6f"
      },
      "execution_count": 18,
      "outputs": [
        {
          "output_type": "execute_result",
          "data": {
            "text/plain": [
              "[{1: ['adf', 'drw', 'dfsf']}, {2: ['dfa', 'fds', 'dfada']}]"
            ]
          },
          "metadata": {},
          "execution_count": 18
        }
      ]
    },
    {
      "cell_type": "markdown",
      "source": [
        "Convert a list to dataframe"
      ],
      "metadata": {
        "id": "Eo2pVKaHEi0M"
      }
    },
    {
      "cell_type": "code",
      "source": [
        "import pandas as pd \n",
        "df = pd.DataFrame(res)\n",
        "df.transpose()"
      ],
      "metadata": {
        "colab": {
          "base_uri": "https://localhost:8080/",
          "height": 112
        },
        "id": "1t1S2-lfDRql",
        "outputId": "f553740b-d1ec-482e-affb-746c15ba6f83"
      },
      "execution_count": 20,
      "outputs": [
        {
          "output_type": "execute_result",
          "data": {
            "text/html": [
              "<div>\n",
              "<style scoped>\n",
              "    .dataframe tbody tr th:only-of-type {\n",
              "        vertical-align: middle;\n",
              "    }\n",
              "\n",
              "    .dataframe tbody tr th {\n",
              "        vertical-align: top;\n",
              "    }\n",
              "\n",
              "    .dataframe thead th {\n",
              "        text-align: right;\n",
              "    }\n",
              "</style>\n",
              "<table border=\"1\" class=\"dataframe\">\n",
              "  <thead>\n",
              "    <tr style=\"text-align: right;\">\n",
              "      <th></th>\n",
              "      <th>0</th>\n",
              "      <th>1</th>\n",
              "    </tr>\n",
              "  </thead>\n",
              "  <tbody>\n",
              "    <tr>\n",
              "      <th>1</th>\n",
              "      <td>[adf, drw, dfsf]</td>\n",
              "      <td>NaN</td>\n",
              "    </tr>\n",
              "    <tr>\n",
              "      <th>2</th>\n",
              "      <td>NaN</td>\n",
              "      <td>[dfa, fds, dfada]</td>\n",
              "    </tr>\n",
              "  </tbody>\n",
              "</table>\n",
              "</div>"
            ],
            "text/plain": [
              "                  0                  1\n",
              "1  [adf, drw, dfsf]                NaN\n",
              "2               NaN  [dfa, fds, dfada]"
            ]
          },
          "metadata": {},
          "execution_count": 20
        }
      ]
    },
    {
      "cell_type": "code",
      "source": [
        ""
      ],
      "metadata": {
        "id": "MW-wewpeEu0U"
      },
      "execution_count": null,
      "outputs": []
    }
  ]
}