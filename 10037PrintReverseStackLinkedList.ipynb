{
  "nbformat": 4,
  "nbformat_minor": 0,
  "metadata": {
    "colab": {
      "name": "10037PrintReverseStackLinkedList.ipynb",
      "provenance": [],
      "authorship_tag": "ABX9TyPdDHKTP0LlcJR7R5HXfzzP",
      "include_colab_link": true
    },
    "kernelspec": {
      "name": "python3",
      "display_name": "Python 3"
    },
    "language_info": {
      "name": "python"
    }
  },
  "cells": [
    {
      "cell_type": "markdown",
      "metadata": {
        "id": "view-in-github",
        "colab_type": "text"
      },
      "source": [
        "<a href=\"https://colab.research.google.com/github/Shivaram17/100DaysOfPythonCoding/blob/main/10037PrintReverseStackLinkedList.ipynb\" target=\"_parent\"><img src=\"https://colab.research.google.com/assets/colab-badge.svg\" alt=\"Open In Colab\"/></a>"
      ]
    },
    {
      "cell_type": "code",
      "metadata": {
        "colab": {
          "base_uri": "https://localhost:8080/"
        },
        "id": "ZHLwi1EdDQSq",
        "outputId": "220c22aa-99e1-4a82-d28d-9fd874733766"
      },
      "source": [
        "# Implementation of stack using python linked list\n",
        "# stack node class for generating a node\n",
        "class stackNode:\n",
        "  def __init__(self, item, next):\n",
        "    self.item = item\n",
        "    self.next = next\n",
        "\n",
        "  \n",
        "class Stack:\n",
        "  #creates an empty stack\n",
        "  def __init__(self):\n",
        "    self.top = None\n",
        "    self.size = 0\n",
        "  \n",
        "  # isEmpty function\n",
        "  def isEmpty(self):\n",
        "    return self.top is None\n",
        "  \n",
        "  # find length function\n",
        "  def __len__(self):\n",
        "    return self.size\n",
        "\n",
        "  # Returns the top item on the stack without removing it peek\n",
        "  def peek(self):\n",
        "    #check if stack is empty\n",
        "    assert not self.isEmpty()\n",
        "    return self.top.item\n",
        "  \n",
        "  # Returns the top item on the stack and removing it pop func\n",
        "  def pop(self):\n",
        "    assert not self.isEmpty()\n",
        "    node = self.top\n",
        "    self.top = self.top.next\n",
        "    self.size -= 1\n",
        "    return node.item\n",
        "\n",
        "  # Pushes an item to the top of the stack\n",
        "  def  push(self, item):\n",
        "    self.top = stackNode(item, self.top) # here we are calling the stackNode class to create a new node and append the self.top as next link\n",
        "    self.size += 1\n",
        "\n",
        "  # Recursion printing reverse using stack linked list\n",
        "  def printReverseLinkedListStack(self):\n",
        "    #create a stack to store item\n",
        "    # Iterate through the list and push each item to stack\n",
        "    curNode = self.top\n",
        "    while curNode is not None:\n",
        "      self.push(curNode.item)\n",
        "      curNode = curNode.next\n",
        "    \n",
        "    # Repeatedly pop the stack items till it get empty\n",
        "    while not self.isEmpty():\n",
        "      value = self.pop()\n",
        "      print(value)\n",
        "      \n",
        "\n",
        "\n",
        "#push vlaues into the stack\n",
        "sll = Stack()\n",
        "sll.push(13)\n",
        "sll.push(5)\n",
        "sll.push(2)\n",
        "sll.push(15)\n",
        "\n",
        "#calling print reverse func\n",
        "sll.printReverseLinkedListStack()\n",
        "\n",
        "\n",
        "\n"
      ],
      "execution_count": 15,
      "outputs": [
        {
          "output_type": "stream",
          "name": "stdout",
          "text": [
            "13\n",
            "5\n",
            "2\n",
            "15\n",
            "15\n",
            "2\n",
            "5\n",
            "13\n"
          ]
        }
      ]
    },
    {
      "cell_type": "code",
      "metadata": {
        "colab": {
          "base_uri": "https://localhost:8080/",
          "height": 234
        },
        "id": "X_xzd7SnTaOx",
        "outputId": "e7954cad-3760-4ddd-bd7f-27022068d6b1"
      },
      "source": [
        "\n",
        "\n",
        "\n",
        "\n",
        "\n",
        "\n",
        "\n"
      ],
      "execution_count": 3,
      "outputs": [
        {
          "output_type": "error",
          "ename": "NameError",
          "evalue": "ignored",
          "traceback": [
            "\u001b[0;31m---------------------------------------------------------------------------\u001b[0m",
            "\u001b[0;31mNameError\u001b[0m                                 Traceback (most recent call last)",
            "\u001b[0;32m<ipython-input-3-b5bc3fe4fac4>\u001b[0m in \u001b[0;36m<module>\u001b[0;34m()\u001b[0m\n\u001b[1;32m     18\u001b[0m \u001b[0;34m\u001b[0m\u001b[0m\n\u001b[1;32m     19\u001b[0m \u001b[0;31m#push vlaues into the stack\u001b[0m\u001b[0;34m\u001b[0m\u001b[0;34m\u001b[0m\u001b[0;34m\u001b[0m\u001b[0m\n\u001b[0;32m---> 20\u001b[0;31m \u001b[0msll\u001b[0m \u001b[0;34m=\u001b[0m \u001b[0mStack\u001b[0m\u001b[0;34m(\u001b[0m\u001b[0;34m)\u001b[0m\u001b[0;34m\u001b[0m\u001b[0;34m\u001b[0m\u001b[0m\n\u001b[0m\u001b[1;32m     21\u001b[0m \u001b[0msll\u001b[0m\u001b[0;34m.\u001b[0m\u001b[0mpush\u001b[0m\u001b[0;34m(\u001b[0m\u001b[0;36m13\u001b[0m\u001b[0;34m)\u001b[0m\u001b[0;34m\u001b[0m\u001b[0;34m\u001b[0m\u001b[0m\n\u001b[1;32m     22\u001b[0m \u001b[0msll\u001b[0m\u001b[0;34m.\u001b[0m\u001b[0mpush\u001b[0m\u001b[0;34m(\u001b[0m\u001b[0;36m5\u001b[0m\u001b[0;34m)\u001b[0m\u001b[0;34m\u001b[0m\u001b[0;34m\u001b[0m\u001b[0m\n",
            "\u001b[0;31mNameError\u001b[0m: name 'Stack' is not defined"
          ]
        }
      ]
    },
    {
      "cell_type": "code",
      "metadata": {
        "id": "U5JrFAbHDZu2"
      },
      "source": [
        ""
      ],
      "execution_count": null,
      "outputs": []
    }
  ]
}