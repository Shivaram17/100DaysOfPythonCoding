{
  "nbformat": 4,
  "nbformat_minor": 0,
  "metadata": {
    "colab": {
      "name": "10048NestedFunctionImplementation.ipynb",
      "provenance": [],
      "authorship_tag": "ABX9TyOWfKZorBwptTYo28/W6Myn",
      "include_colab_link": true
    },
    "kernelspec": {
      "name": "python3",
      "display_name": "Python 3"
    },
    "language_info": {
      "name": "python"
    }
  },
  "cells": [
    {
      "cell_type": "markdown",
      "metadata": {
        "id": "view-in-github",
        "colab_type": "text"
      },
      "source": [
        "<a href=\"https://colab.research.google.com/github/Shivaram17/100DaysOfPythonCoding/blob/main/10048NestedFunctionImplementation.ipynb\" target=\"_parent\"><img src=\"https://colab.research.google.com/assets/colab-badge.svg\" alt=\"Open In Colab\"/></a>"
      ]
    },
    {
      "cell_type": "code",
      "metadata": {
        "colab": {
          "base_uri": "https://localhost:8080/"
        },
        "id": "ZHLwi1EdDQSq",
        "outputId": "e10b3e5a-2803-4932-c752-8c5a555e269c"
      },
      "source": [
        "# using strip method\n",
        "a_string = '\"ab\"cd\"'\n",
        "stripped_string = a_string.strip('') \n",
        "print(stripped_string)"
      ],
      "execution_count": null,
      "outputs": [
        {
          "output_type": "stream",
          "name": "stdout",
          "text": [
            "\"ab\"cd\"\n"
          ]
        }
      ]
    },
    {
      "cell_type": "code",
      "metadata": {
        "id": "zlQypTqimkAc",
        "colab": {
          "base_uri": "https://localhost:8080/"
        },
        "outputId": "b74c655b-91f2-4619-a399-4c95302c6e9f"
      },
      "source": [
        "# function inside another function\n",
        "def a():\n",
        "  h = 'fella'\n",
        "  def b():\n",
        "    c = h\n",
        "    print(c)\n",
        "  b()\n",
        "a()"
      ],
      "execution_count": 1,
      "outputs": [
        {
          "output_type": "stream",
          "name": "stdout",
          "text": [
            "fella\n"
          ]
        }
      ]
    },
    {
      "cell_type": "code",
      "metadata": {
        "id": "sdyuXPoi0ps_"
      },
      "source": [
        ""
      ],
      "execution_count": null,
      "outputs": []
    }
  ]
}