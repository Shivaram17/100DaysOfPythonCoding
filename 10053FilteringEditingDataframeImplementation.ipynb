{
  "nbformat": 4,
  "nbformat_minor": 0,
  "metadata": {
    "colab": {
      "name": "10053FilteringEditingDataframeImplementation.ipynb",
      "provenance": [],
      "authorship_tag": "ABX9TyPxzxpKVycl/CFr2yFaLye4",
      "include_colab_link": true
    },
    "kernelspec": {
      "name": "python3",
      "display_name": "Python 3"
    },
    "language_info": {
      "name": "python"
    }
  },
  "cells": [
    {
      "cell_type": "markdown",
      "metadata": {
        "id": "view-in-github",
        "colab_type": "text"
      },
      "source": [
        "<a href=\"https://colab.research.google.com/github/Shivaram17/100DaysOfPythonCoding/blob/main/10053FilteringEditingDataframeImplementation.ipynb\" target=\"_parent\"><img src=\"https://colab.research.google.com/assets/colab-badge.svg\" alt=\"Open In Colab\"/></a>"
      ]
    },
    {
      "cell_type": "code",
      "metadata": {
        "colab": {
          "base_uri": "https://localhost:8080/",
          "height": 143
        },
        "id": "ZHLwi1EdDQSq",
        "outputId": "78e8e3f8-0b3d-4dce-a81d-ba0ccafd556d"
      },
      "source": [
        "#filtering and Editing data \n",
        "import pandas as pd\n",
        "sales = { 'C' :[1, 2, 3, 4],\n",
        "         'account':[\"Jones\", \"Burns\", \"Keys\", \"David\"],\n",
        "          'D' :[\"Yes\", \"No\", \"Yes\", \"Yes\"],\n",
        "          'F' :[\"US\",\"UK\",\"US\",\"AUS\"],\n",
        "          'G' :[1, 3, 4, 6],\n",
        "          }\n",
        "df = pd.DataFrame(sales)\n",
        "df1 = df[df[\"D\"] == \"Yes\"]\n",
        "df1\n",
        "df2 = df1[df1[\"F\"] == [s3]]\n",
        "df2 = df2[\"C\",\"G\"]\n",
        "\n",
        "df3 = df1[df1[\"F\"] == [s4]]\n",
        "df3 = df3[\"C\",\"G\"]\n"
      ],
      "execution_count": 21,
      "outputs": [
        {
          "output_type": "execute_result",
          "data": {
            "text/html": [
              "<div>\n",
              "<style scoped>\n",
              "    .dataframe tbody tr th:only-of-type {\n",
              "        vertical-align: middle;\n",
              "    }\n",
              "\n",
              "    .dataframe tbody tr th {\n",
              "        vertical-align: top;\n",
              "    }\n",
              "\n",
              "    .dataframe thead th {\n",
              "        text-align: right;\n",
              "    }\n",
              "</style>\n",
              "<table border=\"1\" class=\"dataframe\">\n",
              "  <thead>\n",
              "    <tr style=\"text-align: right;\">\n",
              "      <th></th>\n",
              "      <th>C</th>\n",
              "      <th>account</th>\n",
              "      <th>D</th>\n",
              "      <th>F</th>\n",
              "      <th>G</th>\n",
              "    </tr>\n",
              "  </thead>\n",
              "  <tbody>\n",
              "    <tr>\n",
              "      <th>0</th>\n",
              "      <td>1</td>\n",
              "      <td>Jones</td>\n",
              "      <td>Yes</td>\n",
              "      <td>US</td>\n",
              "      <td>1</td>\n",
              "    </tr>\n",
              "    <tr>\n",
              "      <th>2</th>\n",
              "      <td>3</td>\n",
              "      <td>Keys</td>\n",
              "      <td>Yes</td>\n",
              "      <td>US</td>\n",
              "      <td>4</td>\n",
              "    </tr>\n",
              "    <tr>\n",
              "      <th>3</th>\n",
              "      <td>4</td>\n",
              "      <td>David</td>\n",
              "      <td>Yes</td>\n",
              "      <td>AUS</td>\n",
              "      <td>6</td>\n",
              "    </tr>\n",
              "  </tbody>\n",
              "</table>\n",
              "</div>"
            ],
            "text/plain": [
              "   C account    D    F  G\n",
              "0  1   Jones  Yes   US  1\n",
              "2  3    Keys  Yes   US  4\n",
              "3  4   David  Yes  AUS  6"
            ]
          },
          "metadata": {},
          "execution_count": 21
        }
      ]
    },
    {
      "cell_type": "code",
      "metadata": {
        "id": "zlQypTqimkAc",
        "colab": {
          "base_uri": "https://localhost:8080/"
        },
        "outputId": "dd6730f7-e2a4-46b1-bde0-00eaf9d4a4a6"
      },
      "source": [
        ""
      ],
      "execution_count": null,
      "outputs": [
        {
          "output_type": "stream",
          "name": "stdout",
          "text": [
            "I am writing into file for fun\n"
          ]
        }
      ]
    },
    {
      "cell_type": "code",
      "metadata": {
        "id": "sdyuXPoi0ps_"
      },
      "source": [
        ""
      ],
      "execution_count": null,
      "outputs": []
    }
  ]
}