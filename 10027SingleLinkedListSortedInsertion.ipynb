{
  "nbformat": 4,
  "nbformat_minor": 0,
  "metadata": {
    "colab": {
      "name": "10027SingleLinkedListSortedInsertion.ipynb",
      "provenance": [],
      "authorship_tag": "ABX9TyOdNhd2tVI45qCs1bKyXP8Z",
      "include_colab_link": true
    },
    "kernelspec": {
      "name": "python3",
      "display_name": "Python 3"
    },
    "language_info": {
      "name": "python"
    }
  },
  "cells": [
    {
      "cell_type": "markdown",
      "metadata": {
        "id": "view-in-github",
        "colab_type": "text"
      },
      "source": [
        "<a href=\"https://colab.research.google.com/github/Shivaram17/100DaysOfPythonCoding/blob/main/10027SingleLinkedListSortedInsertion.ipynb\" target=\"_parent\"><img src=\"https://colab.research.google.com/assets/colab-badge.svg\" alt=\"Open In Colab\"/></a>"
      ]
    },
    {
      "cell_type": "code",
      "metadata": {
        "colab": {
          "base_uri": "https://localhost:8080/"
        },
        "id": "UwA3f6IspZrl",
        "outputId": "3b504c53-4d9d-4c3a-907a-a1ba4614d4f4"
      },
      "source": [
        "class Node:\n",
        "  #constructor\n",
        "  def __init__(self, data=None, next=None):\n",
        "    self.data = data\n",
        "    self.next = next\n",
        "# A Linked List class with a single head node\n",
        "class LinkedList:\n",
        "  def __init__(self):\n",
        "    self.head = None\n",
        "\n",
        "  #insertion method for inserting a value into a sorted linkedlist\n",
        "  def insert(self,data):\n",
        "    #given the head pointer, insert a value into a sorted linkedlist\n",
        "    #find the insertion point for the new value\n",
        "    prevNode = None\n",
        "    currentNode  = self.head\n",
        "    while currentNode is not None and data > currentNode.data :\n",
        "      prevNode = currentNode\n",
        "      currentNode = currentNode.next\n",
        "\n",
        "    #create the new node for the new value\n",
        "    newNode = Node(data)\n",
        "    newNode.next = currentNode\n",
        "\n",
        "    #link the new node into the list\n",
        "    if currentNode is self.head:\n",
        "      self.head = newNode\n",
        "    else:\n",
        "      prevNode.next = newNode\n",
        "\n",
        "  def sortedSearch(self,target):\n",
        "    currentNode = self.head\n",
        "    while currentNode is not None and currentNode.data <= target:\n",
        "      if currentNode.data == target:\n",
        "        return True\n",
        "      else:\n",
        "        currentNode = currentNode.next\n",
        "    return False\n",
        "\n",
        "  #print method\n",
        "  def printLL(self):\n",
        "    currentNode = self.head\n",
        "    while(currentNode):\n",
        "      print(currentNode.data)\n",
        "      currentNode = currentNode.next\n",
        "\n",
        "#linkedlist \n",
        "ll = LinkedList()\n",
        "ll.insert(3)\n",
        "ll.insert(4)\n",
        "ll.insert(6)\n",
        "ll.insert(2)\n",
        "print(ll.sortedSearch(5))\n",
        "ll.printLL()\n",
        "\n",
        "  \n",
        " \n",
        "\n",
        "\n",
        "  \n",
        "\n"
      ],
      "execution_count": 22,
      "outputs": [
        {
          "output_type": "stream",
          "name": "stdout",
          "text": [
            "False\n",
            "2\n",
            "3\n",
            "4\n",
            "6\n"
          ]
        }
      ]
    },
    {
      "cell_type": "code",
      "metadata": {
        "id": "j0dMjyDNpbM6"
      },
      "source": [
        ""
      ],
      "execution_count": null,
      "outputs": []
    }
  ]
}