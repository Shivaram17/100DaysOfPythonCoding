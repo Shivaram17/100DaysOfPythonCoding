{
  "nbformat": 4,
  "nbformat_minor": 0,
  "metadata": {
    "colab": {
      "name": "10043InheritanceImplementation.ipynb",
      "provenance": [],
      "authorship_tag": "ABX9TyMChrHsTafK1A82jDAbSMwS",
      "include_colab_link": true
    },
    "kernelspec": {
      "name": "python3",
      "display_name": "Python 3"
    },
    "language_info": {
      "name": "python"
    }
  },
  "cells": [
    {
      "cell_type": "markdown",
      "metadata": {
        "id": "view-in-github",
        "colab_type": "text"
      },
      "source": [
        "<a href=\"https://colab.research.google.com/github/Shivaram17/100DaysOfPythonCoding/blob/main/10043InheritanceImplementation.ipynb\" target=\"_parent\"><img src=\"https://colab.research.google.com/assets/colab-badge.svg\" alt=\"Open In Colab\"/></a>"
      ]
    },
    {
      "cell_type": "code",
      "metadata": {
        "colab": {
          "base_uri": "https://localhost:8080/"
        },
        "id": "ZHLwi1EdDQSq",
        "outputId": "048df291-ce40-4163-b646-9df63e1604b4"
      },
      "source": [
        "# python Inheritance\n",
        "class Person:\n",
        "  def __init__(self, fname, lname):\n",
        "    self.fname = fname\n",
        "    self.lname = lname\n",
        "\n",
        "  def printName(self):\n",
        "    print(self.fname, self.lname)\n",
        "\n",
        "#calling person class\n",
        "a = Person(\"Mike\", \"Osen\")\n",
        "a.printName()\n",
        "\n",
        "#creating a child class and acessing the parent class\n",
        "class Student(Person):\n",
        "  pass\n",
        "\n",
        "#calling child class\n",
        "b = Student(\"Henrich\", \"Klassen\")\n",
        "b.printName()\n"
      ],
      "execution_count": 3,
      "outputs": [
        {
          "output_type": "stream",
          "name": "stdout",
          "text": [
            "Mike Osen\n",
            "Henrich Klassen\n"
          ]
        }
      ]
    },
    {
      "cell_type": "code",
      "metadata": {
        "id": "oFe1poXVY22g"
      },
      "source": [
        ""
      ],
      "execution_count": null,
      "outputs": []
    }
  ]
}