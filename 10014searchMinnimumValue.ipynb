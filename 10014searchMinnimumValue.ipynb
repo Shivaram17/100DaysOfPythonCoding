{
  "nbformat": 4,
  "nbformat_minor": 0,
  "metadata": {
    "colab": {
      "name": "10014searchMinnimumValue.ipynb",
      "provenance": [],
      "authorship_tag": "ABX9TyNCLkgFWru4B0GHD+sEIG+s",
      "include_colab_link": true
    },
    "kernelspec": {
      "name": "python3",
      "display_name": "Python 3"
    },
    "language_info": {
      "name": "python"
    }
  },
  "cells": [
    {
      "cell_type": "markdown",
      "metadata": {
        "id": "view-in-github",
        "colab_type": "text"
      },
      "source": [
        "<a href=\"https://colab.research.google.com/github/Shivaram17/100DaysOfPythonCoding/blob/main/10014searchMinnimumValue.ipynb\" target=\"_parent\"><img src=\"https://colab.research.google.com/assets/colab-badge.svg\" alt=\"Open In Colab\"/></a>"
      ]
    },
    {
      "cell_type": "code",
      "metadata": {
        "colab": {
          "base_uri": "https://localhost:8080/"
        },
        "id": "xpDfmHEjZR2N",
        "outputId": "c353902f-8872-4d24-fcda-c77e98d378f9"
      },
      "source": [
        "#searchMinValue\n",
        "def searchMin(theValues):\n",
        "  n = len(theValues)\n",
        "  s = theValues[0] # smallest value as first value\n",
        "  for i in range(1,n):\n",
        "    if theValues[i] < s:\n",
        "      s=theValues[i]\n",
        "  return print(\"The smallest value is:\",s)\n",
        "\n",
        "theValues = [1,2,4,6,7,8,0]\n",
        "searchMin(theValues)"
      ],
      "execution_count": 5,
      "outputs": [
        {
          "output_type": "stream",
          "name": "stdout",
          "text": [
            "The smallest value is: 0\n"
          ]
        }
      ]
    }
  ]
}