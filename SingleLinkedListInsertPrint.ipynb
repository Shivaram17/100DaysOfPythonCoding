{
  "nbformat": 4,
  "nbformat_minor": 0,
  "metadata": {
    "colab": {
      "name": "SingleLinkedListInsertPrint.ipynb",
      "provenance": [],
      "authorship_tag": "ABX9TyNfo+NupnJV1My+yRlhKVMx",
      "include_colab_link": true
    },
    "kernelspec": {
      "name": "python3",
      "display_name": "Python 3"
    },
    "language_info": {
      "name": "python"
    }
  },
  "cells": [
    {
      "cell_type": "markdown",
      "metadata": {
        "id": "view-in-github",
        "colab_type": "text"
      },
      "source": [
        "<a href=\"https://colab.research.google.com/github/Shivaram17/100DaysOfPythonCoding/blob/main/SingleLinkedListInsertPrint.ipynb\" target=\"_parent\"><img src=\"https://colab.research.google.com/assets/colab-badge.svg\" alt=\"Open In Colab\"/></a>"
      ]
    },
    {
      "cell_type": "code",
      "metadata": {
        "id": "1GMOH7PjYe0P"
      },
      "source": [
        "# #A single node of a singly linkedList\n",
        "# class Node:\n",
        "#   def __init__(self, data=None, next=None):\n",
        "#     self.data = data\n",
        "#     self.next = next\n",
        "\n",
        "# #A linked list class with a single head node\n",
        "# class LinkedList():\n",
        "#   def __init__(self):\n",
        "#     self.head = None\n",
        "\n",
        "# # linked list with a single node\n",
        "# ll = LinkedList()\n",
        "# ll.head = Node(3)\n",
        "# print(ll.head.data)"
      ],
      "execution_count": 5,
      "outputs": []
    },
    {
      "cell_type": "code",
      "metadata": {
        "id": "zP4s8D_HhKSS",
        "colab": {
          "base_uri": "https://localhost:8080/"
        },
        "outputId": "7885b0ad-f7a7-4908-bb95-5ef6d74394b7"
      },
      "source": [
        "class Node:\n",
        "  #constructor\n",
        "  def __init__(self, data=None, next=None):\n",
        "    self.data = data\n",
        "    self.next = next\n",
        "# A Linked List class with a single head node\n",
        "class LinkedList():\n",
        "  def __init__(self):\n",
        "    self.head = None\n",
        "\n",
        "  #insertion method for linkedlist\n",
        "  def insert(self,data):\n",
        "    newNode = Node(data)\n",
        "    if(self.head):\n",
        "      current = self.head\n",
        "      while (current.next):\n",
        "        current = current.next\n",
        "      current.next = newNode\n",
        "    else:\n",
        "      self.head = newNode\n",
        "\n",
        "  #print method\n",
        "  def printLL(self):\n",
        "    current = self.head\n",
        "    while(current):\n",
        "      print(current.data)\n",
        "      current = current.next\n",
        "#linkedlist \n",
        "ll = LinkedList()\n",
        "ll.insert(3)\n",
        "ll.insert(4)\n",
        "ll.insert(6)\n",
        "ll.printLL()\n",
        "# linkedlist with a single node\n",
        "# ll = LinkedList()\n",
        "# ll.head = Node(3)\n",
        "# print(ll.head.data)"
      ],
      "execution_count": 1,
      "outputs": [
        {
          "output_type": "stream",
          "name": "stdout",
          "text": [
            "3\n",
            "4\n",
            "6\n"
          ]
        }
      ]
    },
    {
      "cell_type": "code",
      "metadata": {
        "id": "y89jHeBeK5FE"
      },
      "source": [
        "\n"
      ],
      "execution_count": 2,
      "outputs": []
    },
    {
      "cell_type": "code",
      "metadata": {
        "colab": {
          "base_uri": "https://localhost:8080/"
        },
        "id": "9SVyWgYuMsf1",
        "outputId": "79d23402-5598-42c3-dd05-c71e914b8edb"
      },
      "source": [
        ""
      ],
      "execution_count": 9,
      "outputs": [
        {
          "output_type": "stream",
          "name": "stdout",
          "text": [
            "3\n",
            "4\n",
            "5\n"
          ]
        }
      ]
    },
    {
      "cell_type": "code",
      "metadata": {
        "id": "9CZPlM-vNYkT"
      },
      "source": [
        ""
      ],
      "execution_count": null,
      "outputs": []
    }
  ]
}