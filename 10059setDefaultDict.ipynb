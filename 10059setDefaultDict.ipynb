{
  "nbformat": 4,
  "nbformat_minor": 0,
  "metadata": {
    "colab": {
      "name": "10059setDefaultDict.ipynb",
      "provenance": [],
      "authorship_tag": "ABX9TyM8NfY07Bz1ehvNYRkVqk5t",
      "include_colab_link": true
    },
    "kernelspec": {
      "name": "python3",
      "display_name": "Python 3"
    },
    "language_info": {
      "name": "python"
    }
  },
  "cells": [
    {
      "cell_type": "markdown",
      "metadata": {
        "id": "view-in-github",
        "colab_type": "text"
      },
      "source": [
        "<a href=\"https://colab.research.google.com/github/Shivaram17/100DaysOfPythonCoding/blob/main/10059setDefaultDict.ipynb\" target=\"_parent\"><img src=\"https://colab.research.google.com/assets/colab-badge.svg\" alt=\"Open In Colab\"/></a>"
      ]
    },
    {
      "cell_type": "code",
      "source": [
        "#Code for setdefault dictionary method \n",
        "spam = {\"shape\": \"Square\", \"size\": \"Large\"}\n",
        "spam.setdefault(\"color\", \"Yellow\")\n",
        "spam\n"
      ],
      "metadata": {
        "colab": {
          "base_uri": "https://localhost:8080/"
        },
        "id": "aF1YWgTdT1VH",
        "outputId": "d28526c6-4932-433f-bed8-12e13d05016f"
      },
      "execution_count": 3,
      "outputs": [
        {
          "output_type": "execute_result",
          "data": {
            "text/plain": [
              "{'color': 'Yellow', 'shape': 'Square', 'size': 'Large'}"
            ]
          },
          "metadata": {},
          "execution_count": 3
        }
      ]
    },
    {
      "cell_type": "code",
      "source": [
        ""
      ],
      "metadata": {
        "id": "DvIzd8z50l9Z"
      },
      "execution_count": null,
      "outputs": []
    }
  ]
}