{
  "nbformat": 4,
  "nbformat_minor": 0,
  "metadata": {
    "colab": {
      "name": "10077numpyShape.ipynb",
      "provenance": [],
      "collapsed_sections": [],
      "authorship_tag": "ABX9TyPzqMGpMrN5FXATiIUGyyzD",
      "include_colab_link": true
    },
    "kernelspec": {
      "name": "python3",
      "display_name": "Python 3"
    },
    "language_info": {
      "name": "python"
    }
  },
  "cells": [
    {
      "cell_type": "markdown",
      "metadata": {
        "id": "view-in-github",
        "colab_type": "text"
      },
      "source": [
        "<a href=\"https://colab.research.google.com/github/Shivaram17/100DaysOfPythonCoding/blob/main/10077numpyShape.ipynb\" target=\"_parent\"><img src=\"https://colab.research.google.com/assets/colab-badge.svg\" alt=\"Open In Colab\"/></a>"
      ]
    },
    {
      "cell_type": "code",
      "source": [
        "# # web scraping for - Opening several Google search results.\n",
        "# import requests\n",
        "# import bs4, webbrowser, sys\n",
        "\n",
        "# print(\"Googling....\")#display google while retrieving google search bar\n",
        "# res = requests.get('https://www.google.com/search?q=' + ' '.join(sys.argv[1:]))\n",
        "# res.raise_for_status()\n",
        "# #TODO Retrieve top search result links\n",
        "# soup = bs4.BeautifulSoup(res.text, features=\"html.parser\")\n",
        "\n",
        "# #TODO open a browser tab for each result\n",
        "# linkElems = soup.select('.r a')\n",
        "# numOpen = min(5, len(linkElems))\n",
        "# for i in range(numOpen):\n",
        "#   webbrowser.open('http//google.com' + linkElems[i].get('href'))"
      ],
      "metadata": {
        "id": "7clEkNWGYGeo"
      },
      "execution_count": 1,
      "outputs": []
    },
    {
      "cell_type": "code",
      "source": [
        "import numpy as np\n",
        "x = np.array([[1,2,45,6,7],[1,23,4,67,9]])\n",
        "print(x.shape)"
      ],
      "metadata": {
        "id": "5LCevs9DVawq",
        "colab": {
          "base_uri": "https://localhost:8080/"
        },
        "outputId": "c28ac347-21d8-432f-da77-cccfc5c31f71"
      },
      "execution_count": 6,
      "outputs": [
        {
          "output_type": "stream",
          "name": "stdout",
          "text": [
            "(2, 5)\n"
          ]
        }
      ]
    },
    {
      "cell_type": "code",
      "source": [
        ""
      ],
      "metadata": {
        "id": "9NNN38aDgRl2"
      },
      "execution_count": null,
      "outputs": []
    }
  ]
}