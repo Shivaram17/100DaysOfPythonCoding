{
  "nbformat": 4,
  "nbformat_minor": 0,
  "metadata": {
    "colab": {
      "name": "10082getExcelSheetNames_openpyxl.ipynb",
      "provenance": [],
      "collapsed_sections": [],
      "authorship_tag": "ABX9TyM/PaBSM3mnHgq2MAZuLla2",
      "include_colab_link": true
    },
    "kernelspec": {
      "name": "python3",
      "display_name": "Python 3"
    },
    "language_info": {
      "name": "python"
    }
  },
  "cells": [
    {
      "cell_type": "markdown",
      "metadata": {
        "id": "view-in-github",
        "colab_type": "text"
      },
      "source": [
        "<a href=\"https://colab.research.google.com/github/Shivaram17/100DaysOfPythonCoding/blob/main/10082getExcelSheetNames_openpyxl.ipynb\" target=\"_parent\"><img src=\"https://colab.research.google.com/assets/colab-badge.svg\" alt=\"Open In Colab\"/></a>"
      ]
    },
    {
      "cell_type": "code",
      "source": [
        "#openpyxl module for obtaing sheet names and active sheet.\n",
        "import openpyxl\n",
        "import os\n",
        "os.getcwd()\n",
        "wb = openpyxl.load_workbook('Gokarna.xlsx')\n",
        "sheet = wb.get_sheet_names()\n",
        "sheetname = wb.get_active_sheet()\n",
        "# type(wb)"
      ],
      "metadata": {
        "id": "7clEkNWGYGeo",
        "colab": {
          "base_uri": "https://localhost:8080/",
          "height": 35
        },
        "outputId": "5aadceb4-56d4-46a5-c16a-ed4790f57c70"
      },
      "execution_count": 2,
      "outputs": [
        {
          "output_type": "execute_result",
          "data": {
            "application/vnd.google.colaboratory.intrinsic+json": {
              "type": "string"
            },
            "text/plain": [
              "'/content'"
            ]
          },
          "metadata": {},
          "execution_count": 2
        }
      ]
    },
    {
      "cell_type": "code",
      "source": [
        ""
      ],
      "metadata": {
        "id": "qrrB-n85mcpr"
      },
      "execution_count": null,
      "outputs": []
    }
  ]
}