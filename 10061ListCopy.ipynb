{
  "nbformat": 4,
  "nbformat_minor": 0,
  "metadata": {
    "colab": {
      "name": "10061ListCopy.ipynb",
      "provenance": [],
      "authorship_tag": "ABX9TyNy1lemm5a6CY4Ezbg4tf3t",
      "include_colab_link": true
    },
    "kernelspec": {
      "name": "python3",
      "display_name": "Python 3"
    },
    "language_info": {
      "name": "python"
    }
  },
  "cells": [
    {
      "cell_type": "markdown",
      "metadata": {
        "id": "view-in-github",
        "colab_type": "text"
      },
      "source": [
        "<a href=\"https://colab.research.google.com/github/Shivaram17/100DaysOfPythonCoding/blob/main/10061ListCopy.ipynb\" target=\"_parent\"><img src=\"https://colab.research.google.com/assets/colab-badge.svg\" alt=\"Open In Colab\"/></a>"
      ]
    },
    {
      "cell_type": "code",
      "source": [
        "#list copy.copy method\n",
        "import copy\n",
        "spam = ['A','B','C','D']\n",
        "cheese = copy.copy(spam)\n",
        "cheese[2] = 'FAANG'\n",
        "#reference point for cheese and spam changed after assigning cheese[2]\n",
        "cheese"
      ],
      "metadata": {
        "colab": {
          "base_uri": "https://localhost:8080/"
        },
        "id": "7clEkNWGYGeo",
        "outputId": "769cd45c-327a-447e-edac-9926f5d1d57e"
      },
      "execution_count": 12,
      "outputs": [
        {
          "output_type": "execute_result",
          "data": {
            "text/plain": [
              "['A', 'B', 'FAANG', 'D']"
            ]
          },
          "metadata": {},
          "execution_count": 12
        }
      ]
    },
    {
      "cell_type": "code",
      "source": [
        ""
      ],
      "metadata": {
        "id": "uDH5cHstYXwo"
      },
      "execution_count": null,
      "outputs": []
    }
  ]
}