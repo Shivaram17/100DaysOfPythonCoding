{
  "nbformat": 4,
  "nbformat_minor": 0,
  "metadata": {
    "colab": {
      "name": "10012Matrix.ipynb",
      "provenance": [],
      "collapsed_sections": [],
      "authorship_tag": "ABX9TyMEteqkVkSUNOdgaTuJn8ws",
      "include_colab_link": true
    },
    "kernelspec": {
      "name": "python3",
      "display_name": "Python 3"
    },
    "language_info": {
      "name": "python"
    }
  },
  "cells": [
    {
      "cell_type": "markdown",
      "metadata": {
        "id": "view-in-github",
        "colab_type": "text"
      },
      "source": [
        "<a href=\"https://colab.research.google.com/github/Shivaram17/100DaysOfPythonCoding/blob/main/10012Matrix.ipynb\" target=\"_parent\"><img src=\"https://colab.research.google.com/assets/colab-badge.svg\" alt=\"Open In Colab\"/></a>"
      ]
    },
    {
      "cell_type": "code",
      "metadata": {
        "colab": {
          "base_uri": "https://localhost:8080/"
        },
        "id": "_3EfS8CmGhdH",
        "outputId": "d87206b2-6c43-4cce-bc95-b7024129ac5a"
      },
      "source": [
        "# matrix input and addition\n",
        "\n",
        "m = int(input(\"Enter no of rows: \"))\n",
        "n = int(input(\"Enter no of columns: \"))\n",
        " \n",
        "# initialize a matrix list\n",
        "matrix = []\n",
        "print(\"Enter number row wise\")\n",
        "\n",
        "for i in range(m):  # a loop for row entries\n",
        "  #list inside the matrix\n",
        "  a =[]\n",
        "  for j in range(n): # a loop for column entries\n",
        "    a.append(int(input()))\n",
        "  matrix.append(a)\n",
        "\n",
        "# for printing the matrix\n",
        "for i in range(m):\n",
        "  for j in range(n):\n",
        "    print(matrix[i][j], end=\" \")\n",
        "  print()\n",
        "  \n",
        "\n"
      ],
      "execution_count": 6,
      "outputs": [
        {
          "output_type": "stream",
          "name": "stdout",
          "text": [
            "Enter no of rows: 1\n",
            "Enter no of columns: 2\n",
            "Enter number row wise\n",
            "1\n",
            "2\n",
            "[[1, 2]]\n"
          ]
        }
      ]
    }
  ]
}