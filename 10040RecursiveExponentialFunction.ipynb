{
  "nbformat": 4,
  "nbformat_minor": 0,
  "metadata": {
    "colab": {
      "name": "10040RecursiveExponentialFunction.ipynb",
      "provenance": [],
      "authorship_tag": "ABX9TyO05G1fVZwSl3rl0EsZ3mx+",
      "include_colab_link": true
    },
    "kernelspec": {
      "name": "python3",
      "display_name": "Python 3"
    },
    "language_info": {
      "name": "python"
    }
  },
  "cells": [
    {
      "cell_type": "markdown",
      "metadata": {
        "id": "view-in-github",
        "colab_type": "text"
      },
      "source": [
        "<a href=\"https://colab.research.google.com/github/Shivaram17/100DaysOfPythonCoding/blob/main/10040RecursiveExponentialFunction.ipynb\" target=\"_parent\"><img src=\"https://colab.research.google.com/assets/colab-badge.svg\" alt=\"Open In Colab\"/></a>"
      ]
    },
    {
      "cell_type": "code",
      "metadata": {
        "colab": {
          "base_uri": "https://localhost:8080/"
        },
        "id": "ZHLwi1EdDQSq",
        "outputId": "0a1a5353-dd7f-489e-c7d9-c081962f153a"
      },
      "source": [
        "# Recursive Exponential function\n",
        "def exp(x,n):\n",
        "  if n == 0:\n",
        "    return 1\n",
        "  result = exp(x*x, n//2)\n",
        "  \n",
        "  if n%2 == 0:\n",
        "    return result\n",
        "  else:\n",
        "    return x * result\n",
        "\n",
        "#call func\n",
        "exp(9, 7)\n"
      ],
      "execution_count": 7,
      "outputs": [
        {
          "output_type": "execute_result",
          "data": {
            "text/plain": [
              "4782969"
            ]
          },
          "metadata": {},
          "execution_count": 7
        }
      ]
    }
  ]
}