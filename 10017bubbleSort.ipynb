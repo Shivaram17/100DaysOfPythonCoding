{
  "nbformat": 4,
  "nbformat_minor": 0,
  "metadata": {
    "colab": {
      "name": "10017bubbleSort.ipynb",
      "provenance": [],
      "authorship_tag": "ABX9TyP/PFPgETwg4eg5c4L/SYFT",
      "include_colab_link": true
    },
    "kernelspec": {
      "name": "python3",
      "display_name": "Python 3"
    },
    "language_info": {
      "name": "python"
    }
  },
  "cells": [
    {
      "cell_type": "markdown",
      "metadata": {
        "id": "view-in-github",
        "colab_type": "text"
      },
      "source": [
        "<a href=\"https://colab.research.google.com/github/Shivaram17/100DaysOfPythonCoding/blob/main/10017bubbleSort.ipynb\" target=\"_parent\"><img src=\"https://colab.research.google.com/assets/colab-badge.svg\" alt=\"Open In Colab\"/></a>"
      ]
    },
    {
      "cell_type": "code",
      "metadata": {
        "colab": {
          "base_uri": "https://localhost:8080/"
        },
        "id": "m6lhNbgXOEwL",
        "outputId": "5e9703d8-2dd4-4add-a1c2-df4afd9e1557"
      },
      "source": [
        "# Bubble sort\n",
        "def bubbleSort(theValues):\n",
        "  n = len(theValues)\n",
        "  #two for loops\n",
        "  for i in range(n-1):\n",
        "    for j in range(0,n-i-1):\n",
        "      if theValues[j] > theValues[j+1]:\n",
        "        # temp = theValues[j]\n",
        "        # theValues[j] = theValues[j+1]\n",
        "        # theValues[j+1] = temp\n",
        "        theValues[j], theValues[j+1] = theValues[j+1], theValues[j]\n",
        "  return print(theValues) \n",
        "\n",
        "#calling the bubblesort function\n",
        "theValues = [7,8,9,0,1,4]\n",
        "bubbleSort(theValues)"
      ],
      "execution_count": 11,
      "outputs": [
        {
          "output_type": "stream",
          "name": "stdout",
          "text": [
            "[0, 1, 4, 7, 8, 9]\n"
          ]
        }
      ]
    }
  ]
}