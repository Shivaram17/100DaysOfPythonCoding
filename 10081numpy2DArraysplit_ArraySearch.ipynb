{
  "nbformat": 4,
  "nbformat_minor": 0,
  "metadata": {
    "colab": {
      "name": "10081numpy2DArraysplit_ArraySearch.ipynb",
      "provenance": [],
      "collapsed_sections": [],
      "authorship_tag": "ABX9TyNrnj7L7mMMiKycVxsQq3zZ",
      "include_colab_link": true
    },
    "kernelspec": {
      "name": "python3",
      "display_name": "Python 3"
    },
    "language_info": {
      "name": "python"
    }
  },
  "cells": [
    {
      "cell_type": "markdown",
      "metadata": {
        "id": "view-in-github",
        "colab_type": "text"
      },
      "source": [
        "<a href=\"https://colab.research.google.com/github/Shivaram17/100DaysOfPythonCoding/blob/main/10081numpy2DArraysplit_ArraySearch.ipynb\" target=\"_parent\"><img src=\"https://colab.research.google.com/assets/colab-badge.svg\" alt=\"Open In Colab\"/></a>"
      ]
    },
    {
      "cell_type": "code",
      "source": [
        "# # web scraping for - Opening several Google search results.\n",
        "# import requests\n",
        "# import bs4, webbrowser, sys\n",
        "\n",
        "# print(\"Googling....\")#display google while retrieving google search bar\n",
        "# res = requests.get('https://www.google.com/search?q=' + ' '.join(sys.argv[1:]))\n",
        "# res.raise_for_status()\n",
        "# #TODO Retrieve top search result links\n",
        "# soup = bs4.BeautifulSoup(res.text, features=\"html.parser\")\n",
        "\n",
        "# #TODO open a browser tab for each result\n",
        "# linkElems = soup.select('.r a')\n",
        "# numOpen = min(5, len(linkElems))\n",
        "# for i in range(numOpen):\n",
        "#   webbrowser.open('http//google.com' + linkElems[i].get('href'))"
      ],
      "metadata": {
        "id": "7clEkNWGYGeo"
      },
      "execution_count": null,
      "outputs": []
    },
    {
      "cell_type": "code",
      "source": [
        "#numpy array split\n",
        "import numpy as np\n",
        "arr1 = np.array([[1,2,4],[2,5,6],[1,3],[5,7],[1,6]])\n",
        "newarr = np.array_split(arr1,3)\n",
        "print(newarr)\n"
      ],
      "metadata": {
        "id": "5LCevs9DVawq",
        "colab": {
          "base_uri": "https://localhost:8080/"
        },
        "outputId": "cc4a9a99-cc78-4924-dea3-6c5389ed53a6"
      },
      "execution_count": 3,
      "outputs": [
        {
          "output_type": "stream",
          "name": "stdout",
          "text": [
            "[array([list([1, 2, 4]), list([2, 5, 6])], dtype=object), array([list([1, 3]), list([5, 7])], dtype=object), array([list([1, 6])], dtype=object)]\n"
          ]
        },
        {
          "output_type": "stream",
          "name": "stderr",
          "text": [
            "/usr/local/lib/python3.7/dist-packages/ipykernel_launcher.py:2: VisibleDeprecationWarning: Creating an ndarray from ragged nested sequences (which is a list-or-tuple of lists-or-tuples-or ndarrays with different lengths or shapes) is deprecated. If you meant to do this, you must specify 'dtype=object' when creating the ndarray\n",
            "  \n"
          ]
        }
      ]
    },
    {
      "cell_type": "code",
      "source": [
        "#numpy array search\n",
        "arr2 = np.array([1,3,63,52,4,53,23,32])\n",
        "newarr1  = np.where(arr2 == 53)\n",
        "print(newarr1)"
      ],
      "metadata": {
        "id": "9NNN38aDgRl2",
        "colab": {
          "base_uri": "https://localhost:8080/"
        },
        "outputId": "4ff7100a-b47e-444a-f807-f39ec50f98a2"
      },
      "execution_count": 4,
      "outputs": [
        {
          "output_type": "stream",
          "name": "stdout",
          "text": [
            "(array([5]),)\n"
          ]
        }
      ]
    },
    {
      "cell_type": "code",
      "source": [
        ""
      ],
      "metadata": {
        "id": "Nmg8_a3I0GvI"
      },
      "execution_count": null,
      "outputs": []
    }
  ]
}