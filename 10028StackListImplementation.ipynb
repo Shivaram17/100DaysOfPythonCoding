{
  "nbformat": 4,
  "nbformat_minor": 0,
  "metadata": {
    "colab": {
      "name": "10028StackListImplementation.ipynb",
      "provenance": [],
      "authorship_tag": "ABX9TyMzBbAzg/NsVeyajdFmFjeS",
      "include_colab_link": true
    },
    "kernelspec": {
      "name": "python3",
      "display_name": "Python 3"
    },
    "language_info": {
      "name": "python"
    }
  },
  "cells": [
    {
      "cell_type": "markdown",
      "metadata": {
        "id": "view-in-github",
        "colab_type": "text"
      },
      "source": [
        "<a href=\"https://colab.research.google.com/github/Shivaram17/100DaysOfPythonCoding/blob/main/10028StackListImplementation.ipynb\" target=\"_parent\"><img src=\"https://colab.research.google.com/assets/colab-badge.svg\" alt=\"Open In Colab\"/></a>"
      ]
    },
    {
      "cell_type": "code",
      "metadata": {
        "colab": {
          "base_uri": "https://localhost:8080/"
        },
        "id": "ZHLwi1EdDQSq",
        "outputId": "a8896bae-15be-44a6-b0d0-76d7e2a8fb0d"
      },
      "source": [
        "# Implementation of stack using python list\n",
        "\n",
        "class Stack:\n",
        "  #creates an empty stack\n",
        "  def __init__(self):\n",
        "    self.items = list()\n",
        "\n",
        "  #isEmpty func\n",
        "  def isEmpty(self):\n",
        "    return len(self) == 0\n",
        "\n",
        "  # returns no of items in stack\n",
        "  def __len__(self):\n",
        "    return len(self.items)\n",
        "\n",
        "  # Peek func to return the top index of stack\n",
        "  def peek(self):\n",
        "    assert not self.isEmpty() # cannot peek on a empty stack\n",
        "    return self.items[-1]\n",
        "\n",
        "  #  Pop func to remove the top most value\n",
        "  def pop(self):\n",
        "    assert not self.isEmpty() # cannot pop on a empty stack\n",
        "    return self.items.pop()\n",
        "\n",
        "  # push func to add a value to top of stack \n",
        "  def push(self, value):\n",
        "    return self.items.append(value)\n",
        "\n",
        "\n",
        "# calling stack class\n",
        "stackList = Stack()\n",
        "stackList.push(5)\n",
        "stackList.push(6)\n",
        "stackList.push(9)\n",
        "stackList.push(7)\n",
        "print(stackList.pop())\n",
        "stackList.peek()\n",
        "\n",
        "\n",
        "\n"
      ],
      "execution_count": 5,
      "outputs": [
        {
          "output_type": "stream",
          "name": "stdout",
          "text": [
            "7\n"
          ]
        },
        {
          "output_type": "execute_result",
          "data": {
            "text/plain": [
              "9"
            ]
          },
          "metadata": {},
          "execution_count": 5
        }
      ]
    },
    {
      "cell_type": "code",
      "metadata": {
        "id": "U5JrFAbHDZu2"
      },
      "source": [
        "()"
      ],
      "execution_count": null,
      "outputs": []
    }
  ]
}