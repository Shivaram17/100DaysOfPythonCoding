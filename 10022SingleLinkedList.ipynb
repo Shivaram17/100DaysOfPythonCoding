{
  "nbformat": 4,
  "nbformat_minor": 0,
  "metadata": {
    "colab": {
      "name": "SingleLinkedList.ipynb",
      "provenance": [],
      "authorship_tag": "ABX9TyMuhhWtBr93wgUuGSQ9JAt7",
      "include_colab_link": true
    },
    "kernelspec": {
      "name": "python3",
      "display_name": "Python 3"
    },
    "language_info": {
      "name": "python"
    }
  },
  "cells": [
    {
      "cell_type": "markdown",
      "metadata": {
        "id": "view-in-github",
        "colab_type": "text"
      },
      "source": [
        "<a href=\"https://colab.research.google.com/github/Shivaram17/100DaysOfPythonCoding/blob/main/SingleLinkedList.ipynb\" target=\"_parent\"><img src=\"https://colab.research.google.com/assets/colab-badge.svg\" alt=\"Open In Colab\"/></a>"
      ]
    },
    {
      "cell_type": "code",
      "metadata": {
        "colab": {
          "base_uri": "https://localhost:8080/"
        },
        "id": "1GMOH7PjYe0P",
        "outputId": "b21605ec-8d67-468c-d745-a346cdf070ca"
      },
      "source": [
        "#A single node of a singly linkedList\n",
        "class Node:\n",
        "  def __init__(self, data=None, next=None):\n",
        "    self.data = data\n",
        "    self.next = next\n",
        "\n",
        "#A linked list class with a single head node\n",
        "class LinkedList():\n",
        "  def __init__(self):\n",
        "    self.head = None\n",
        "\n",
        "# linked list with a single node\n",
        "ll = LinkedList()\n",
        "ll.head = Node(3)\n",
        "print(ll.head.data)"
      ],
      "execution_count": 1,
      "outputs": [
        {
          "output_type": "stream",
          "name": "stdout",
          "text": [
            "3\n"
          ]
        }
      ]
    },
    {
      "cell_type": "code",
      "metadata": {
        "id": "zP4s8D_HhKSS"
      },
      "source": [
        ""
      ],
      "execution_count": null,
      "outputs": []
    }
  ]
}
