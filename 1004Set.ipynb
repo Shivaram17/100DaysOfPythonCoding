{
  "nbformat": 4,
  "nbformat_minor": 0,
  "metadata": {
    "colab": {
      "name": "1004Set.ipynb",
      "provenance": [],
      "authorship_tag": "ABX9TyN9yRTGLNanTa4q6DuH4uEy",
      "include_colab_link": true
    },
    "kernelspec": {
      "name": "python3",
      "display_name": "Python 3"
    },
    "language_info": {
      "name": "python"
    }
  },
  "cells": [
    {
      "cell_type": "markdown",
      "metadata": {
        "id": "view-in-github",
        "colab_type": "text"
      },
      "source": [
        "<a href=\"https://colab.research.google.com/github/Shivaram17/100DaysOfPythonCoding/blob/main/1004Set.ipynb\" target=\"_parent\"><img src=\"https://colab.research.google.com/assets/colab-badge.svg\" alt=\"Open In Colab\"/></a>"
      ]
    },
    {
      "cell_type": "code",
      "metadata": {
        "colab": {
          "base_uri": "https://localhost:8080/"
        },
        "id": "9-tf-lS-E5oU",
        "outputId": "3cce732d-d74e-4cd9-b6ad-0bbeaa6ca6dc"
      },
      "source": [
        "smith = set()\n",
        "smith.add(\"a\")\n",
        "smith.add(\"b\")\n",
        "robert = set()\n",
        "robert.add(\"b\")\n",
        "robert.add(\"c\")\n",
        "\n",
        "if smith == robert:\n",
        "   print(\"Both are equal\")\n",
        "else:\n",
        "  sameC = smith.intersection(robert)\n",
        "  if sameC == smith or sameC == robert :\n",
        "    print(\"No courses are same\")\n",
        "  else:\n",
        "    print(\"Some courses are same\")\n",
        "for course in sameC:\n",
        "  print(course)\n"
      ],
      "execution_count": 8,
      "outputs": [
        {
          "output_type": "stream",
          "name": "stdout",
          "text": [
            "Some courses are same\n",
            "b\n"
          ]
        }
      ]
    }
  ]
}