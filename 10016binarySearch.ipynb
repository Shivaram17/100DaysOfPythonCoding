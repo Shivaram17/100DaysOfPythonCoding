{
  "nbformat": 4,
  "nbformat_minor": 0,
  "metadata": {
    "colab": {
      "name": "10016binarySearch.ipynb",
      "provenance": [],
      "authorship_tag": "ABX9TyOiV4dsHrkmklhw4wCJqtId",
      "include_colab_link": true
    },
    "kernelspec": {
      "name": "python3",
      "display_name": "Python 3"
    },
    "language_info": {
      "name": "python"
    }
  },
  "cells": [
    {
      "cell_type": "markdown",
      "metadata": {
        "id": "view-in-github",
        "colab_type": "text"
      },
      "source": [
        "<a href=\"https://colab.research.google.com/github/Shivaram17/100DaysOfPythonCoding/blob/main/10016binarySearch.ipynb\" target=\"_parent\"><img src=\"https://colab.research.google.com/assets/colab-badge.svg\" alt=\"Open In Colab\"/></a>"
      ]
    },
    {
      "cell_type": "code",
      "metadata": {
        "colab": {
          "base_uri": "https://localhost:8080/"
        },
        "id": "qppe_j1IDz5S",
        "outputId": "ce83927a-d55d-4590-fdb8-6025a49395c1"
      },
      "source": [
        "#Binary search\n",
        "def binarySearch(theValues, target):\n",
        "  low=0\n",
        "  high = len(theValues) -1\n",
        "  while low <= high:\n",
        "    # midvalue of the list\n",
        "    mid = (low + high) // 2\n",
        "    if target == theValues[mid]:\n",
        "      return print(theValues[mid],\" mid indice \", mid)\n",
        "    # else if\n",
        "    elif target > theValues[mid]:\n",
        "      low = mid +1\n",
        "    else:\n",
        "      high = mid -1\n",
        "  return False\n",
        "\n",
        "# calling the binary search function\n",
        "theValues = [1,2,3,5,7,9]\n",
        "target = 5\n",
        "binarySearch(theValues, target)"
      ],
      "execution_count": 8,
      "outputs": [
        {
          "output_type": "stream",
          "name": "stdout",
          "text": [
            "5  mid indice  3\n"
          ]
        }
      ]
    }
  ]
}