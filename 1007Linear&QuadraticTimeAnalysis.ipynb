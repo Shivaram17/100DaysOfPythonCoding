{
  "nbformat": 4,
  "nbformat_minor": 0,
  "metadata": {
    "colab": {
      "name": "Linear&QuadraticTimeAnalysis.ipynb",
      "provenance": [],
      "authorship_tag": "ABX9TyMojFWU7jIzLqylj++NmKsG",
      "include_colab_link": true
    },
    "kernelspec": {
      "name": "python3",
      "display_name": "Python 3"
    },
    "language_info": {
      "name": "python"
    }
  },
  "cells": [
    {
      "cell_type": "markdown",
      "metadata": {
        "id": "view-in-github",
        "colab_type": "text"
      },
      "source": [
        "<a href=\"https://colab.research.google.com/github/Shivaram17/100DaysOfPythonCoding/blob/main/Linear%26QuadraticTimeAnalysis.ipynb\" target=\"_parent\"><img src=\"https://colab.research.google.com/assets/colab-badge.svg\" alt=\"Open In Colab\"/></a>"
      ]
    },
    {
      "cell_type": "code",
      "metadata": {
        "colab": {
          "base_uri": "https://localhost:8080/"
        },
        "id": "7VM3eqdtMqld",
        "outputId": "d80ad448-f404-42e9-b64d-b9dc5347c440"
      },
      "source": [
        "#Linear Time analysis O(n)\n",
        "def ex(a):\n",
        "  total = 0;\n",
        "  for i in range(a+1):\n",
        "    total = total + i\n",
        "  return total\n",
        "y = ex(5)\n",
        "print(y)"
      ],
      "execution_count": 4,
      "outputs": [
        {
          "output_type": "stream",
          "name": "stdout",
          "text": [
            "15\n"
          ]
        }
      ]
    },
    {
      "cell_type": "code",
      "metadata": {
        "colab": {
          "base_uri": "https://localhost:8080/"
        },
        "id": "XaXORxyrOlEs",
        "outputId": "0b8d0208-c2e5-45b8-ea47-1c1d0b0ab627"
      },
      "source": [
        "# Special Nested loop Quadratic Time analysis n^2 + n/2 = O(n^2)\n",
        "def ex(a):\n",
        "  count = 0\n",
        "  sum =0\n",
        "  for i in range(a):\n",
        "    count = count + i\n",
        "    for j in range(i+1):\n",
        "      count = count + j\n",
        "      sum=sum+j\n",
        "  return sum\n",
        "y = ex(100)\n",
        "print(y)"
      ],
      "execution_count": 8,
      "outputs": [
        {
          "output_type": "stream",
          "name": "stdout",
          "text": [
            "166650\n"
          ]
        }
      ]
    }
  ]
}
