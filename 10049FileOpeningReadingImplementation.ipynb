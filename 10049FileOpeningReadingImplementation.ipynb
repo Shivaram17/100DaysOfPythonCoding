{
  "nbformat": 4,
  "nbformat_minor": 0,
  "metadata": {
    "colab": {
      "name": "10049FileOpeningReadingImplementation.ipynb",
      "provenance": [],
      "authorship_tag": "ABX9TyNz53jlPd8ApxKwEJKzd4i1",
      "include_colab_link": true
    },
    "kernelspec": {
      "name": "python3",
      "display_name": "Python 3"
    },
    "language_info": {
      "name": "python"
    }
  },
  "cells": [
    {
      "cell_type": "markdown",
      "metadata": {
        "id": "view-in-github",
        "colab_type": "text"
      },
      "source": [
        "<a href=\"https://colab.research.google.com/github/Shivaram17/100DaysOfPythonCoding/blob/main/10049FileOpeningReadingImplementation.ipynb\" target=\"_parent\"><img src=\"https://colab.research.google.com/assets/colab-badge.svg\" alt=\"Open In Colab\"/></a>"
      ]
    },
    {
      "cell_type": "code",
      "metadata": {
        "colab": {
          "base_uri": "https://localhost:8080/"
        },
        "id": "ZHLwi1EdDQSq",
        "outputId": "e10b3e5a-2803-4932-c752-8c5a555e269c"
      },
      "source": [
        "# using strip method\n",
        "a_string = '\"ab\"cd\"'\n",
        "stripped_string = a_string.strip('') \n",
        "print(stripped_string)"
      ],
      "execution_count": null,
      "outputs": [
        {
          "output_type": "stream",
          "name": "stdout",
          "text": [
            "\"ab\"cd\"\n"
          ]
        }
      ]
    },
    {
      "cell_type": "code",
      "metadata": {
        "id": "zlQypTqimkAc",
        "colab": {
          "base_uri": "https://localhost:8080/"
        },
        "outputId": "b74c655b-91f2-4619-a399-4c95302c6e9f"
      },
      "source": [
        "# code for opening a file and reading the text upto 5 characters only\n",
        "# r = read and t = text\n",
        "file = open(\"demoFile.txt\", \"r\")\n",
        "print(file.read(5))\n",
        "\n"
      ],
      "execution_count": null,
      "outputs": [
        {
          "output_type": "stream",
          "name": "stdout",
          "text": [
            "fella\n"
          ]
        }
      ]
    },
    {
      "cell_type": "code",
      "metadata": {
        "id": "sdyuXPoi0ps_"
      },
      "source": [
        ""
      ],
      "execution_count": null,
      "outputs": []
    }
  ]
}