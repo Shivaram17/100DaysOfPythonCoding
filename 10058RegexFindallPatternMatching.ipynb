{
  "nbformat": 4,
  "nbformat_minor": 0,
  "metadata": {
    "colab": {
      "name": "10058RegexFindallPatternMatching.ipynb",
      "provenance": [],
      "authorship_tag": "ABX9TyOht0wNPSfIgSJ1oI5p90Tx",
      "include_colab_link": true
    },
    "kernelspec": {
      "name": "python3",
      "display_name": "Python 3"
    },
    "language_info": {
      "name": "python"
    }
  },
  "cells": [
    {
      "cell_type": "markdown",
      "metadata": {
        "id": "view-in-github",
        "colab_type": "text"
      },
      "source": [
        "<a href=\"https://colab.research.google.com/github/Shivaram17/100DaysOfPythonCoding/blob/main/10058RegexFindallPatternMatching.ipynb\" target=\"_parent\"><img src=\"https://colab.research.google.com/assets/colab-badge.svg\" alt=\"Open In Colab\"/></a>"
      ]
    },
    {
      "cell_type": "code",
      "source": [
        "#Code for Phone number matching using regex groups for escaping paranthesis, Pipe, *\n",
        "import re\n",
        "phoneRegex = re.compile(r'\\d{3}-\\d{3}-\\d{4}')\n",
        "mo = phoneRegex.findall(\"MY num is 415-123-2123 and my office num is 412-212-2121\")\n",
        "mo"
      ],
      "metadata": {
        "colab": {
          "base_uri": "https://localhost:8080/"
        },
        "id": "aF1YWgTdT1VH",
        "outputId": "05d2d7e2-a341-4d01-827f-e3efe31425c3"
      },
      "execution_count": 4,
      "outputs": [
        {
          "output_type": "execute_result",
          "data": {
            "text/plain": [
              "['415-123-2123', '412-212-2121']"
            ]
          },
          "metadata": {},
          "execution_count": 4
        }
      ]
    },
    {
      "cell_type": "code",
      "source": [
        ""
      ],
      "metadata": {
        "id": "DvIzd8z50l9Z"
      },
      "execution_count": null,
      "outputs": []
    }
  ]
}