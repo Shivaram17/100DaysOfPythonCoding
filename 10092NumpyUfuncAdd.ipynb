{
  "nbformat": 4,
  "nbformat_minor": 0,
  "metadata": {
    "colab": {
      "name": "10092NumpyUfuncAdd.ipynb",
      "provenance": [],
      "collapsed_sections": [],
      "authorship_tag": "ABX9TyOmLuCMFranbZjerzYz2yfr",
      "include_colab_link": true
    },
    "kernelspec": {
      "name": "python3",
      "display_name": "Python 3"
    },
    "language_info": {
      "name": "python"
    }
  },
  "cells": [
    {
      "cell_type": "markdown",
      "metadata": {
        "id": "view-in-github",
        "colab_type": "text"
      },
      "source": [
        "<a href=\"https://colab.research.google.com/github/Shivaram17/100DaysOfPythonCoding/blob/main/10092NumpyUfuncAdd.ipynb\" target=\"_parent\"><img src=\"https://colab.research.google.com/assets/colab-badge.svg\" alt=\"Open In Colab\"/></a>"
      ]
    },
    {
      "cell_type": "code",
      "source": [
        "#numpy ufunc\n",
        "import numpy as np\n",
        "from numpy import random\n",
        "import matplotlib.pyplot as plt\n",
        "\n",
        "# zip function\n",
        "x = [1,2,3,4,5]\n",
        "y = [9,8,7,6,5]\n",
        "z = []\n",
        "for i,j in zip(x,y):\n",
        "  z.append(i + j)\n",
        "print(z)\n",
        "\n",
        "# numpy ufunc\n",
        "k = np.add(x,y)\n",
        "print(k)"
      ],
      "metadata": {
        "id": "7clEkNWGYGeo",
        "colab": {
          "base_uri": "https://localhost:8080/"
        },
        "outputId": "5df3f8f4-7591-4030-8a3a-9d16175cccce"
      },
      "execution_count": 3,
      "outputs": [
        {
          "output_type": "stream",
          "name": "stdout",
          "text": [
            "[10, 10, 10, 10, 10]\n",
            "[10 10 10 10 10]\n"
          ]
        }
      ]
    },
    {
      "cell_type": "code",
      "source": [
        " "
      ],
      "metadata": {
        "id": "c3XmGF9YF8oC"
      },
      "execution_count": null,
      "outputs": []
    }
  ]
}