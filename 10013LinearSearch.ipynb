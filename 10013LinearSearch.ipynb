{
  "nbformat": 4,
  "nbformat_minor": 0,
  "metadata": {
    "colab": {
      "name": "10013LinearSearch.ipynb",
      "provenance": [],
      "authorship_tag": "ABX9TyMKoLqFutVe2F58jMbGHb9n",
      "include_colab_link": true
    },
    "kernelspec": {
      "name": "python3",
      "display_name": "Python 3"
    },
    "language_info": {
      "name": "python"
    }
  },
  "cells": [
    {
      "cell_type": "markdown",
      "metadata": {
        "id": "view-in-github",
        "colab_type": "text"
      },
      "source": [
        "<a href=\"https://colab.research.google.com/github/Shivaram17/100DaysOfPythonCoding/blob/main/10013LinearSearch.ipynb\" target=\"_parent\"><img src=\"https://colab.research.google.com/assets/colab-badge.svg\" alt=\"Open In Colab\"/></a>"
      ]
    },
    {
      "cell_type": "code",
      "metadata": {
        "colab": {
          "base_uri": "https://localhost:8080/"
        },
        "id": "AcJweBQ_CCS2",
        "outputId": "2c9ae582-5946-48cb-b0bf-d223cc129490"
      },
      "source": [
        "#linear search algorithm\n",
        "def linearSearch(theValues, target):\n",
        "  n = len(theValues)\n",
        "  for i in range(n):\n",
        "    if theValues[i] == target:\n",
        "      return True\n",
        "  return False\n",
        "theValues = [1,3,4,6,7]\n",
        "target =3\n",
        "linearSearch(theValues, target)"
      ],
      "execution_count": 2,
      "outputs": [
        {
          "output_type": "execute_result",
          "data": {
            "text/plain": [
              "True"
            ]
          },
          "metadata": {},
          "execution_count": 2
        }
      ]
    }
  ]
}