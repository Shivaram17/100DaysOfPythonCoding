{
  "nbformat": 4,
  "nbformat_minor": 0,
  "metadata": {
    "colab": {
      "name": "10035FactorialRecursiveFunction.ipynb",
      "provenance": [],
      "authorship_tag": "ABX9TyM0DIsfW2OOCJrQVQekMMmI",
      "include_colab_link": true
    },
    "kernelspec": {
      "name": "python3",
      "display_name": "Python 3"
    },
    "language_info": {
      "name": "python"
    }
  },
  "cells": [
    {
      "cell_type": "markdown",
      "metadata": {
        "id": "view-in-github",
        "colab_type": "text"
      },
      "source": [
        "<a href=\"https://colab.research.google.com/github/Shivaram17/100DaysOfPythonCoding/blob/main/10035FactorialRecursiveFunction.ipynb\" target=\"_parent\"><img src=\"https://colab.research.google.com/assets/colab-badge.svg\" alt=\"Open In Colab\"/></a>"
      ]
    },
    {
      "cell_type": "code",
      "metadata": {
        "colab": {
          "base_uri": "https://localhost:8080/"
        },
        "id": "ZHLwi1EdDQSq",
        "outputId": "05190b13-602a-448d-b172-0c9bb48ca2e1"
      },
      "source": [
        "# Recursion func for finding factorial\n",
        "def fact(n):\n",
        "  assert n >= 0\n",
        "  if n < 2:\n",
        "    return 1\n",
        "  else:\n",
        "    return n * fact(n - 1)\n",
        "\n",
        "# calling fact func\n",
        "fact(5)\n"
      ],
      "execution_count": 2,
      "outputs": [
        {
          "output_type": "execute_result",
          "data": {
            "text/plain": [
              "120"
            ]
          },
          "metadata": {},
          "execution_count": 2
        }
      ]
    },
    {
      "cell_type": "code",
      "metadata": {
        "id": "U5JrFAbHDZu2"
      },
      "source": [
        ""
      ],
      "execution_count": null,
      "outputs": []
    }
  ]
}