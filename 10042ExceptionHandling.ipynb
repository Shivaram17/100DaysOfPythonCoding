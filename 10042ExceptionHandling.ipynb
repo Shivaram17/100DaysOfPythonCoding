{
  "nbformat": 4,
  "nbformat_minor": 0,
  "metadata": {
    "colab": {
      "name": "10042ExceptionHandling.ipynb",
      "provenance": [],
      "authorship_tag": "ABX9TyM+gMBS5BFzgLtuc8c8uKlR",
      "include_colab_link": true
    },
    "kernelspec": {
      "name": "python3",
      "display_name": "Python 3"
    },
    "language_info": {
      "name": "python"
    }
  },
  "cells": [
    {
      "cell_type": "markdown",
      "metadata": {
        "id": "view-in-github",
        "colab_type": "text"
      },
      "source": [
        "<a href=\"https://colab.research.google.com/github/Shivaram17/100DaysOfPythonCoding/blob/main/10042ExceptionHandling.ipynb\" target=\"_parent\"><img src=\"https://colab.research.google.com/assets/colab-badge.svg\" alt=\"Open In Colab\"/></a>"
      ]
    },
    {
      "cell_type": "code",
      "metadata": {
        "colab": {
          "base_uri": "https://localhost:8080/"
        },
        "id": "ZHLwi1EdDQSq",
        "outputId": "2a4a0adf-ff7e-41cc-ad36-1c27c92c5d90"
      },
      "source": [
        "# python Exceptionhandling\n",
        "a = [1,2,3]\n",
        "try:\n",
        "  print(\"The the second value of array a: \", a[1])\n",
        "  #error\n",
        "  print(\"The the fourth value of array a: \", a[3])\n",
        "except:\n",
        "  print(\"An exception occured\")\n",
        "\n"
      ],
      "execution_count": 1,
      "outputs": [
        {
          "output_type": "stream",
          "name": "stdout",
          "text": [
            "The the second value of array a:  2\n",
            "An exception occured\n"
          ]
        }
      ]
    },
    {
      "cell_type": "code",
      "metadata": {
        "id": "oFe1poXVY22g"
      },
      "source": [
        ""
      ],
      "execution_count": null,
      "outputs": []
    }
  ]
}