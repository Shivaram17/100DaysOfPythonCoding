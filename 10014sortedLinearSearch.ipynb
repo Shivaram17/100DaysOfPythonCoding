{
  "nbformat": 4,
  "nbformat_minor": 0,
  "metadata": {
    "colab": {
      "name": "10014sortedLinearSearch.ipynb",
      "provenance": [],
      "authorship_tag": "ABX9TyPStaDOHgq/Kvq6Y3iDm0H4",
      "include_colab_link": true
    },
    "kernelspec": {
      "name": "python3",
      "display_name": "Python 3"
    },
    "language_info": {
      "name": "python"
    }
  },
  "cells": [
    {
      "cell_type": "markdown",
      "metadata": {
        "id": "view-in-github",
        "colab_type": "text"
      },
      "source": [
        "<a href=\"https://colab.research.google.com/github/Shivaram17/100DaysOfPythonCoding/blob/main/10014sortedLinearSearch.ipynb\" target=\"_parent\"><img src=\"https://colab.research.google.com/assets/colab-badge.svg\" alt=\"Open In Colab\"/></a>"
      ]
    },
    {
      "cell_type": "code",
      "metadata": {
        "colab": {
          "base_uri": "https://localhost:8080/"
        },
        "id": "gT9FqiYOAdtC",
        "outputId": "cd22596a-8411-4be7-b503-b902ad272f2c"
      },
      "source": [
        "#sortedLinearSearch\n",
        "def sortedLinearSearch(theValues, target):\n",
        "  n = len(theValues)\n",
        "  count = 0\n",
        "  for i in range(n):\n",
        "    count = count +1\n",
        "    if theValues[i]==target:\n",
        "      return True\n",
        "    elif theValues[i] > target:\n",
        "      print(count)\n",
        "      return False\n",
        "  print(count)\n",
        "  return False\n",
        "\n",
        "# calling a function\n",
        "theValues=[1,2,3,4,5,7,8]\n",
        "target = 6\n",
        "sortedLinearSearch(theValues, target)"
      ],
      "execution_count": 2,
      "outputs": [
        {
          "output_type": "stream",
          "name": "stdout",
          "text": [
            "6\n"
          ]
        },
        {
          "output_type": "execute_result",
          "data": {
            "text/plain": [
              "False"
            ]
          },
          "metadata": {},
          "execution_count": 2
        }
      ]
    }
  ]
}