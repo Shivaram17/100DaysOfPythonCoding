{
  "nbformat": 4,
  "nbformat_minor": 0,
  "metadata": {
    "colab": {
      "name": "10072StringFormatModule.ipynb",
      "provenance": [],
      "authorship_tag": "ABX9TyMF1CO1i9qa2X4UFvO0/y2x",
      "include_colab_link": true
    },
    "kernelspec": {
      "name": "python3",
      "display_name": "Python 3"
    },
    "language_info": {
      "name": "python"
    }
  },
  "cells": [
    {
      "cell_type": "markdown",
      "metadata": {
        "id": "view-in-github",
        "colab_type": "text"
      },
      "source": [
        "<a href=\"https://colab.research.google.com/github/Shivaram17/100DaysOfPythonCoding/blob/main/10072StringFormatModule.ipynb\" target=\"_parent\"><img src=\"https://colab.research.google.com/assets/colab-badge.svg\" alt=\"Open In Colab\"/></a>"
      ]
    },
    {
      "cell_type": "code",
      "source": [
        "# # web scraping for downloading the noStarch.com website and accessing the html elements using BeautifulSoup library\n",
        "# import requests\n",
        "# import bs4\n",
        "# res = requests.get('https://nostarch.com')\n",
        "# res.raise_for_status\n",
        "# noStarchSoup = bs4.BeautifulSoup(res.text)\n",
        "# type(noStarchSoup)\n",
        "# elems = noStarchSoup.select('div')\n",
        "# elems[0]"
      ],
      "metadata": {
        "colab": {
          "base_uri": "https://localhost:8080/"
        },
        "id": "7clEkNWGYGeo",
        "outputId": "76b85f65-fb30-47b0-b0fb-a8bef412218a"
      },
      "execution_count": null,
      "outputs": [
        {
          "output_type": "execute_result",
          "data": {
            "text/plain": [
              "<div id=\"skip-link\">\n",
              "<a class=\"element-invisible element-focusable\" href=\"#main-content\">Skip to main content</a>\n",
              "</div>"
            ]
          },
          "metadata": {},
          "execution_count": 8
        }
      ]
    },
    {
      "cell_type": "code",
      "source": [
        "price = 49\n",
        "txt = \"The price is {} dollars\"\n",
        "print(txt.format(price))"
      ],
      "metadata": {
        "id": "uDH5cHstYXwo",
        "colab": {
          "base_uri": "https://localhost:8080/"
        },
        "outputId": "36be6a20-4f28-4cb1-eb1b-1512888d5dee"
      },
      "execution_count": 1,
      "outputs": [
        {
          "output_type": "stream",
          "name": "stdout",
          "text": [
            "The price is 49 dollars\n"
          ]
        }
      ]
    },
    {
      "cell_type": "code",
      "source": [
        ""
      ],
      "metadata": {
        "id": "Ks5cQ7r-mVrO"
      },
      "execution_count": null,
      "outputs": []
    }
  ]
}