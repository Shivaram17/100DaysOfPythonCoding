{
  "nbformat": 4,
  "nbformat_minor": 0,
  "metadata": {
    "colab": {
      "name": "10056RegexAutomatingPhoneNumPattern.ipynb",
      "provenance": [],
      "authorship_tag": "ABX9TyNGrzDgi0VYiSuy7gsp21sO",
      "include_colab_link": true
    },
    "kernelspec": {
      "name": "python3",
      "display_name": "Python 3"
    },
    "language_info": {
      "name": "python"
    }
  },
  "cells": [
    {
      "cell_type": "markdown",
      "metadata": {
        "id": "view-in-github",
        "colab_type": "text"
      },
      "source": [
        "<a href=\"https://colab.research.google.com/github/Shivaram17/100DaysOfPythonCoding/blob/main/10056RegexAutomatingPhoneNumPattern.ipynb\" target=\"_parent\"><img src=\"https://colab.research.google.com/assets/colab-badge.svg\" alt=\"Open In Colab\"/></a>"
      ]
    },
    {
      "cell_type": "code",
      "source": [
        "#Brute force method for finding pattern of a phone number\n",
        "def IsPhoneNumber(x):\n",
        "  if len(x) != 12:\n",
        "    return False\n",
        "  for i in range(0,3):\n",
        "    if not x[i].isdecimal():\n",
        "      return False\n",
        "  if x[3] != '-':\n",
        "    return False\n",
        "  for i in range(4,7):\n",
        "    if not x[i].isdecimal():\n",
        "      return False\n",
        "  if x[7] != '-':\n",
        "    return False\n",
        "  for i in range(8,12):\n",
        "    if not x[i].isdecimal():\n",
        "      return False\n",
        "  return True\n",
        "\n",
        "# IsPhoneNumber('123-123-233')\n",
        "# for finding a phone number in a text message \n",
        "message = 'Call me at 415-123-3234 tomorrow. 425-342-3232 is my office'\n",
        "for i in range(len(message)):\n",
        "  chunk = message[i:i+12]\n",
        "  if IsPhoneNumber(chunk):\n",
        "    print(\"Phone number found\", chunk)\n",
        "print('done')"
      ],
      "metadata": {
        "colab": {
          "base_uri": "https://localhost:8080/"
        },
        "id": "aF1YWgTdT1VH",
        "outputId": "fc1a803a-2274-4e4c-cd60-dd2880ced91a"
      },
      "execution_count": 7,
      "outputs": [
        {
          "output_type": "stream",
          "name": "stdout",
          "text": [
            "Phone number found 415-123-3234\n",
            "Phone number found 425-342-3232\n",
            "done\n"
          ]
        }
      ]
    },
    {
      "cell_type": "code",
      "source": [
        "#Code for Phone number matching using regex \n",
        "import re\n",
        "phoneNumRegex = re.compile(r'\\d{3}-\\d{3}-\\d{4}')\n",
        "match = phoneNumRegex.search('My numbers are 412-132-2342 and 123-233-1234')\n",
        "print(\"Phone number found: \", match.group())"
      ],
      "metadata": {
        "id": "QPEbo7SdUJte",
        "colab": {
          "base_uri": "https://localhost:8080/"
        },
        "outputId": "1b568200-ee7d-4b31-a0b3-78b661b808cb"
      },
      "execution_count": 16,
      "outputs": [
        {
          "output_type": "stream",
          "name": "stdout",
          "text": [
            "Phone number found:  412-132-2342\n"
          ]
        }
      ]
    },
    {
      "cell_type": "code",
      "source": [
        ""
      ],
      "metadata": {
        "id": "dVIMA9ZZ-0Bl"
      },
      "execution_count": null,
      "outputs": []
    }
  ]
}