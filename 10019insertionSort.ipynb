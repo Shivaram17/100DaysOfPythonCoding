{
  "nbformat": 4,
  "nbformat_minor": 0,
  "metadata": {
    "colab": {
      "name": "10019insertionSort.ipynb",
      "provenance": [],
      "authorship_tag": "ABX9TyMAsh32B23O1X+cBQirloln",
      "include_colab_link": true
    },
    "kernelspec": {
      "name": "python3",
      "display_name": "Python 3"
    },
    "language_info": {
      "name": "python"
    }
  },
  "cells": [
    {
      "cell_type": "markdown",
      "metadata": {
        "id": "view-in-github",
        "colab_type": "text"
      },
      "source": [
        "<a href=\"https://colab.research.google.com/github/Shivaram17/100DaysOfPythonCoding/blob/main/10019insertionSort.ipynb\" target=\"_parent\"><img src=\"https://colab.research.google.com/assets/colab-badge.svg\" alt=\"Open In Colab\"/></a>"
      ]
    },
    {
      "cell_type": "code",
      "metadata": {
        "colab": {
          "base_uri": "https://localhost:8080/"
        },
        "id": "KvPA4C3wiMba",
        "outputId": "8b08465a-7ae6-4f91-b364-aa70d89e6214"
      },
      "source": [
        "# insertion sort\n",
        "def insertionSort(theSeq):\n",
        "  n = len(theSeq)\n",
        "  for i in range(1,n):\n",
        "    #save the value to be positioned\n",
        "    value = theSeq[i]\n",
        "    # pos = i\n",
        "    pos = i\n",
        "    # condition for checking whether the i+1 value < i\n",
        "    while pos > 0 and value < theSeq[pos - 1]:\n",
        "      theSeq[pos] = theSeq[pos - 1]\n",
        "      pos=pos - 1\n",
        "    #put the saved value in  first sequence\n",
        "    theSeq[pos] = value\n",
        "  return theSeq\n",
        "#calling insertion sort function\n",
        "theSeq= [9,7,4,2,34,56,21,10,8]\n",
        "insertionSort(theSeq)\n",
        "\n",
        "      \n",
        "\n",
        "    \n"
      ],
      "execution_count": 3,
      "outputs": [
        {
          "output_type": "execute_result",
          "data": {
            "text/plain": [
              "[2, 4, 7, 8, 9, 10, 21, 34, 56]"
            ]
          },
          "metadata": {},
          "execution_count": 3
        }
      ]
    }
  ]
}