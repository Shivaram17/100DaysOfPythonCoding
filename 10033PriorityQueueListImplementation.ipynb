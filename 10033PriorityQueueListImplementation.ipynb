{
  "nbformat": 4,
  "nbformat_minor": 0,
  "metadata": {
    "colab": {
      "name": "10033PriorityQueueListImplementation.ipynb",
      "provenance": [],
      "authorship_tag": "ABX9TyM9wljoW9Wpfwpj0paovX9t",
      "include_colab_link": true
    },
    "kernelspec": {
      "name": "python3",
      "display_name": "Python 3"
    },
    "language_info": {
      "name": "python"
    }
  },
  "cells": [
    {
      "cell_type": "markdown",
      "metadata": {
        "id": "view-in-github",
        "colab_type": "text"
      },
      "source": [
        "<a href=\"https://colab.research.google.com/github/Shivaram17/100DaysOfPythonCoding/blob/main/10033PriorityQueueListImplementation.ipynb\" target=\"_parent\"><img src=\"https://colab.research.google.com/assets/colab-badge.svg\" alt=\"Open In Colab\"/></a>"
      ]
    },
    {
      "cell_type": "code",
      "metadata": {
        "colab": {
          "base_uri": "https://localhost:8080/"
        },
        "id": "ZHLwi1EdDQSq",
        "outputId": "62e6d910-bcdc-4e43-be35-7251f9a6eec4"
      },
      "source": [
        "# Implementation of priority Queue using python LinkedlistQueue\n",
        "class PriorityQueue:\n",
        "  # create an empty unbounded queue\n",
        "  def __init__(self):\n",
        "    self.qlist = list()\n",
        "  #isEmpty func\n",
        "  def isEmpty(self):\n",
        "    return len(self) == 0 \n",
        "\n",
        "  # return the length of queue\n",
        "  def __len__(self):\n",
        "    return len(self.qlist)\n",
        "\n",
        "  #adds the given item to the queue\n",
        "  def enqueue(self, value, priority):\n",
        "    #creating an storage class and append to it\n",
        "    entry = PriorityQEntry(value, priority)\n",
        "    self.qlist.append(entry)   \n",
        "  \n",
        "  # Dequeue func \n",
        "  def dequeue(self):\n",
        "    assert not self.isEmpty() # cannot dequeue an empty func\n",
        "    # find the entry with the highest priority\n",
        "    i=0\n",
        "    highest = self.qlist[i].priority\n",
        "    for i in range(self.__len__()):\n",
        "      # see if the ith entry contains a higher priority (smaller integer)\n",
        "      if self.qlist[i].priority < highest:\n",
        "        highest = self.qlist[i].priority\n",
        "\n",
        "    #remove the highest priority value first\n",
        "    entry = self.qlist.pop(highest)\n",
        "    return entry.value\n",
        "    \n",
        "#private storage class for creating the list node\n",
        "class PriorityQEntry():\n",
        "  def __init__(self, value, priority):\n",
        "    self.value = value\n",
        "    self.priority = priority\n",
        "\n",
        "# calling a class \n",
        "pql = PriorityQueue()\n",
        "pql.enqueue(1, 1)\n",
        "pql.enqueue(5, 6)\n",
        "pql.enqueue(3, 5)\n",
        "pql.dequeue()\n",
        "\n",
        "\n",
        "\n",
        "\n"
      ],
      "execution_count": 19,
      "outputs": [
        {
          "output_type": "execute_result",
          "data": {
            "text/plain": [
              "5"
            ]
          },
          "metadata": {},
          "execution_count": 19
        }
      ]
    },
    {
      "cell_type": "code",
      "metadata": {
        "id": "U5JrFAbHDZu2"
      },
      "source": [
        ""
      ],
      "execution_count": null,
      "outputs": []
    }
  ]
}