{
  "nbformat": 4,
  "nbformat_minor": 0,
  "metadata": {
    "colab": {
      "name": "2_BAG100D.ipynb",
      "provenance": [],
      "authorship_tag": "ABX9TyPPYviwmORuA+j7DYOTZ9YA"
    },
    "kernelspec": {
      "name": "python3",
      "display_name": "Python 3"
    },
    "language_info": {
      "name": "python"
    }
  },
  "cells": [
    {
      "cell_type": "code",
      "metadata": {
        "colab": {
          "base_uri": "https://localhost:8080/"
        },
        "id": "rQNt1VPE973J",
        "outputId": "7d415dbe-0854-482f-f8ac-4ad7a6c61c8f"
      },
      "source": [
        "\n"
      ],
      "execution_count": 15,
      "outputs": [
        {
          "output_type": "stream",
          "text": [
            "Requirement already satisfied: bag in /usr/local/lib/python3.7/dist-packages (4.0.0)\n",
            "Requirement already satisfied: polib in /usr/local/lib/python3.7/dist-packages (from bag) (1.1.1)\n",
            "Requirement already satisfied: argh in /usr/local/lib/python3.7/dist-packages (from bag) (0.26.2)\n"
          ],
          "name": "stdout"
        }
      ]
    },
    {
      "cell_type": "code",
      "metadata": {
        "colab": {
          "base_uri": "https://localhost:8080/"
        },
        "id": "Xo5Bcv_s_txH",
        "outputId": "20be0148-5531-43fc-e1dd-c05f5ea45420"
      },
      "source": [
        "\n",
        "myBag = []\n",
        "myBag.append(3)\n",
        "myBag.append(5)\n",
        "\n",
        "value = int(input(\"Enter a value to check\"))\n",
        "\n",
        "if value in myBag:\n",
        "  print(\"true\")\n",
        "else:\n",
        "  print(\"false\")\n"
      ],
      "execution_count": 21,
      "outputs": [
        {
          "output_type": "stream",
          "text": [
            "Enter a value to check4\n",
            "false\n"
          ],
          "name": "stdout"
        }
      ]
    }
  ]
}