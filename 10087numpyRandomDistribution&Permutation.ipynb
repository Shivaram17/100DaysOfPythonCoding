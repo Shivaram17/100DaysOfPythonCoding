{
  "nbformat": 4,
  "nbformat_minor": 0,
  "metadata": {
    "colab": {
      "name": "10087numpyRandomDistribution&Permutation.ipynb",
      "provenance": [],
      "collapsed_sections": [],
      "authorship_tag": "ABX9TyNNLvhe0uGKHw+rrJnMj9Y+",
      "include_colab_link": true
    },
    "kernelspec": {
      "name": "python3",
      "display_name": "Python 3"
    },
    "language_info": {
      "name": "python"
    }
  },
  "cells": [
    {
      "cell_type": "markdown",
      "metadata": {
        "id": "view-in-github",
        "colab_type": "text"
      },
      "source": [
        "<a href=\"https://colab.research.google.com/github/Shivaram17/100DaysOfPythonCoding/blob/main/10087numpyRandomDistribution%26Permutation.ipynb\" target=\"_parent\"><img src=\"https://colab.research.google.com/assets/colab-badge.svg\" alt=\"Open In Colab\"/></a>"
      ]
    },
    {
      "cell_type": "code",
      "source": [
        "#numpy array for random module for data distribution\n",
        "import numpy as np\n",
        "from numpy import random\n",
        "# random choice for arrays\n",
        "z = random.choice([1,3,5,7,9], p = [0.1,0.1,0.3,0.1,0.4], size = (3,5))\n",
        "arr = np.array([1,3,5,6,8,9])\n",
        "#random shuffle\n",
        "random.shuffle(arr)\n",
        "#random permutation\n",
        "print(random.permutation(arr))\n",
        "print(z)\n",
        "print(arr)\n"
      ],
      "metadata": {
        "id": "7clEkNWGYGeo",
        "colab": {
          "base_uri": "https://localhost:8080/"
        },
        "outputId": "412abdae-0f5b-4f44-ddf5-f91523ef3a5d"
      },
      "execution_count": 9,
      "outputs": [
        {
          "output_type": "stream",
          "name": "stdout",
          "text": [
            "[3 9 1 5 8 6]\n",
            "[[5 9 5 5 5]\n",
            " [5 3 5 9 3]\n",
            " [9 9 5 9 1]]\n",
            "[5 8 1 9 3 6]\n"
          ]
        }
      ]
    },
    {
      "cell_type": "code",
      "source": [
        ""
      ],
      "metadata": {
        "id": "qrrB-n85mcpr"
      },
      "execution_count": null,
      "outputs": []
    }
  ]
}