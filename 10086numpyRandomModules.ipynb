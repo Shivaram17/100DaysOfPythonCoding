{
  "nbformat": 4,
  "nbformat_minor": 0,
  "metadata": {
    "colab": {
      "name": "10086numpyRandomModules.ipynb",
      "provenance": [],
      "collapsed_sections": [],
      "authorship_tag": "ABX9TyPjY5qLS7lvPUDwYJDtSdIz",
      "include_colab_link": true
    },
    "kernelspec": {
      "name": "python3",
      "display_name": "Python 3"
    },
    "language_info": {
      "name": "python"
    }
  },
  "cells": [
    {
      "cell_type": "markdown",
      "metadata": {
        "id": "view-in-github",
        "colab_type": "text"
      },
      "source": [
        "<a href=\"https://colab.research.google.com/github/Shivaram17/100DaysOfPythonCoding/blob/main/10086numpyRandomModules.ipynb\" target=\"_parent\"><img src=\"https://colab.research.google.com/assets/colab-badge.svg\" alt=\"Open In Colab\"/></a>"
      ]
    },
    {
      "cell_type": "code",
      "source": [
        "#numpy array for random module\n",
        "from numpy import random\n",
        "#random from 0 to 5\n",
        "x = random.randint(5)\n",
        "#random 2d array of float \n",
        "y = random.rand(3,4)\n",
        "# random choice for arrays\n",
        "z = random.choice([2,3,43,323,5], size = (3,5))\n",
        "print(z)\n"
      ],
      "metadata": {
        "id": "7clEkNWGYGeo",
        "colab": {
          "base_uri": "https://localhost:8080/"
        },
        "outputId": "b4c20ee9-3942-426b-fc28-63797fabffb8"
      },
      "execution_count": 11,
      "outputs": [
        {
          "output_type": "stream",
          "name": "stdout",
          "text": [
            "[[  2   5   2   3 323]\n",
            " [  2   3 323   3  43]\n",
            " [ 43   5 323   5   5]]\n"
          ]
        }
      ]
    },
    {
      "cell_type": "code",
      "source": [
        ""
      ],
      "metadata": {
        "id": "qrrB-n85mcpr"
      },
      "execution_count": null,
      "outputs": []
    }
  ]
}