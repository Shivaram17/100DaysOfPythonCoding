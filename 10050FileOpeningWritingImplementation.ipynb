{
  "nbformat": 4,
  "nbformat_minor": 0,
  "metadata": {
    "colab": {
      "name": "10050FileOpeningWritingImplementation.ipynb",
      "provenance": [],
      "authorship_tag": "ABX9TyMYorKyrN/BaWF/CoCCIBB/",
      "include_colab_link": true
    },
    "kernelspec": {
      "name": "python3",
      "display_name": "Python 3"
    },
    "language_info": {
      "name": "python"
    }
  },
  "cells": [
    {
      "cell_type": "markdown",
      "metadata": {
        "id": "view-in-github",
        "colab_type": "text"
      },
      "source": [
        "<a href=\"https://colab.research.google.com/github/Shivaram17/100DaysOfPythonCoding/blob/main/10050FileOpeningWritingImplementation.ipynb\" target=\"_parent\"><img src=\"https://colab.research.google.com/assets/colab-badge.svg\" alt=\"Open In Colab\"/></a>"
      ]
    },
    {
      "cell_type": "code",
      "metadata": {
        "colab": {
          "base_uri": "https://localhost:8080/"
        },
        "id": "ZHLwi1EdDQSq",
        "outputId": "e10b3e5a-2803-4932-c752-8c5a555e269c"
      },
      "source": [
        "# using strip method\n",
        "a_string = '\"ab\"cd\"'\n",
        "stripped_string = a_string.strip('') \n",
        "print(stripped_string)"
      ],
      "execution_count": null,
      "outputs": [
        {
          "output_type": "stream",
          "name": "stdout",
          "text": [
            "\"ab\"cd\"\n"
          ]
        }
      ]
    },
    {
      "cell_type": "code",
      "metadata": {
        "id": "zlQypTqimkAc",
        "colab": {
          "base_uri": "https://localhost:8080/"
        },
        "outputId": "dd6730f7-e2a4-46b1-bde0-00eaf9d4a4a6"
      },
      "source": [
        "# code for opening a file and reading the text upto 5 characters only\n",
        "# r = read and t = text\n",
        "file = open(\"demoFile.txt\", \"w\")\n",
        "file.write(\"I am writing into file for fun\")\n",
        "file.close()\n",
        "\n",
        "#open and read this code\n",
        "f = open(\"demoFile.txt\", \"r\")\n",
        "print(f.read())\n",
        "f.close()\n",
        "\n"
      ],
      "execution_count": 2,
      "outputs": [
        {
          "output_type": "stream",
          "name": "stdout",
          "text": [
            "I am writing into file for fun\n"
          ]
        }
      ]
    },
    {
      "cell_type": "code",
      "metadata": {
        "id": "sdyuXPoi0ps_"
      },
      "source": [
        ""
      ],
      "execution_count": null,
      "outputs": []
    }
  ]
}