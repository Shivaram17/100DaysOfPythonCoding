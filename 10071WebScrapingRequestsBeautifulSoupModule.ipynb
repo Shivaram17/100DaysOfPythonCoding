{
  "nbformat": 4,
  "nbformat_minor": 0,
  "metadata": {
    "colab": {
      "name": "10071WebScrapingRequestsBeautifulSoupModule.ipynb",
      "provenance": [],
      "authorship_tag": "ABX9TyO6HPAWgdNUFbYoS3ZT3eK4",
      "include_colab_link": true
    },
    "kernelspec": {
      "name": "python3",
      "display_name": "Python 3"
    },
    "language_info": {
      "name": "python"
    }
  },
  "cells": [
    {
      "cell_type": "markdown",
      "metadata": {
        "id": "view-in-github",
        "colab_type": "text"
      },
      "source": [
        "<a href=\"https://colab.research.google.com/github/Shivaram17/100DaysOfPythonCoding/blob/main/10071WebScrapingRequestsBeautifulSoupModule.ipynb\" target=\"_parent\"><img src=\"https://colab.research.google.com/assets/colab-badge.svg\" alt=\"Open In Colab\"/></a>"
      ]
    },
    {
      "cell_type": "code",
      "source": [
        "# web scraping for downloading the noStarch.com website and accessing the html elements using BeautifulSoup library\n",
        "import requests\n",
        "import bs4\n",
        "res = requests.get('https://nostarch.com')\n",
        "res.raise_for_status\n",
        "noStarchSoup = bs4.BeautifulSoup(res.text)\n",
        "type(noStarchSoup)\n",
        "elems = noStarchSoup.select('div')\n",
        "elems[0]"
      ],
      "metadata": {
        "colab": {
          "base_uri": "https://localhost:8080/"
        },
        "id": "7clEkNWGYGeo",
        "outputId": "76b85f65-fb30-47b0-b0fb-a8bef412218a"
      },
      "execution_count": 8,
      "outputs": [
        {
          "output_type": "execute_result",
          "data": {
            "text/plain": [
              "<div id=\"skip-link\">\n",
              "<a class=\"element-invisible element-focusable\" href=\"#main-content\">Skip to main content</a>\n",
              "</div>"
            ]
          },
          "metadata": {},
          "execution_count": 8
        }
      ]
    },
    {
      "cell_type": "code",
      "source": [
        ""
      ],
      "metadata": {
        "id": "uDH5cHstYXwo"
      },
      "execution_count": 5,
      "outputs": []
    },
    {
      "cell_type": "code",
      "source": [
        ""
      ],
      "metadata": {
        "id": "Ks5cQ7r-mVrO"
      },
      "execution_count": null,
      "outputs": []
    }
  ]
}