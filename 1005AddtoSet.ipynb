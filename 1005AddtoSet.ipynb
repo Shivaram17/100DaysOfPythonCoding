{
  "nbformat": 4,
  "nbformat_minor": 0,
  "metadata": {
    "colab": {
      "name": "1005AddtoSet.ipynb",
      "provenance": [],
      "authorship_tag": "ABX9TyNHhGDTSpiYRB2Nee6TjK1s",
      "include_colab_link": true
    },
    "kernelspec": {
      "name": "python3",
      "display_name": "Python 3"
    },
    "language_info": {
      "name": "python"
    }
  },
  "cells": [
    {
      "cell_type": "markdown",
      "metadata": {
        "id": "view-in-github",
        "colab_type": "text"
      },
      "source": [
        "<a href=\"https://colab.research.google.com/github/Shivaram17/100DaysOfPythonCoding/blob/main/1005AddtoSet.ipynb\" target=\"_parent\"><img src=\"https://colab.research.google.com/assets/colab-badge.svg\" alt=\"Open In Colab\"/></a>"
      ]
    },
    {
      "cell_type": "code",
      "metadata": {
        "colab": {
          "base_uri": "https://localhost:8080/"
        },
        "id": "Sae91xmJKZ2w",
        "outputId": "46d6b648-99f6-407e-8ba1-78cc83ce8d7e"
      },
      "source": [
        "people = {\"side\", \"north\"}\n",
        "print(\"people \")\n",
        "print(people)\n",
        "\n",
        "for i in range(1,6):\n",
        "  people.add(i)\n",
        "print(\"After adding i: \")\n",
        "print(people)\n"
      ],
      "execution_count": 2,
      "outputs": [
        {
          "output_type": "stream",
          "name": "stdout",
          "text": [
            "people \n",
            "{'north', 'side'}\n",
            "After adding i: \n",
            "{'north', 2, 3, 1, 4, 5, 'side'}\n"
          ]
        }
      ]
    }
  ]
}