{
  "nbformat": 4,
  "nbformat_minor": 0,
  "metadata": {
    "colab": {
      "name": "10010List.ipynb",
      "provenance": [],
      "authorship_tag": "ABX9TyPHIUf0MuxYbbVbmNheJ/1a",
      "include_colab_link": true
    },
    "kernelspec": {
      "name": "python3",
      "display_name": "Python 3"
    },
    "language_info": {
      "name": "python"
    }
  },
  "cells": [
    {
      "cell_type": "markdown",
      "metadata": {
        "id": "view-in-github",
        "colab_type": "text"
      },
      "source": [
        "<a href=\"https://colab.research.google.com/github/Shivaram17/100DaysOfPythonCoding/blob/main/10010List.ipynb\" target=\"_parent\"><img src=\"https://colab.research.google.com/assets/colab-badge.svg\" alt=\"Open In Colab\"/></a>"
      ]
    },
    {
      "cell_type": "code",
      "metadata": {
        "colab": {
          "base_uri": "https://localhost:8080/"
        },
        "id": "ANS0RkuLM4uz",
        "outputId": "c6601845-5f9d-40da-f20e-0f9f776fde75"
      },
      "source": [
        "#List insertion\n",
        "valueList = [1,3,5,67,9]\n",
        "valueList.append(53)\n",
        "sum = 0\n",
        "for i in valueList:\n",
        "  sum = sum + i\n",
        "print(valueList)"
      ],
      "execution_count": 1,
      "outputs": [
        {
          "output_type": "stream",
          "name": "stdout",
          "text": [
            "[1, 3, 5, 67, 9, 53]\n"
          ]
        }
      ]
    }
  ]
}