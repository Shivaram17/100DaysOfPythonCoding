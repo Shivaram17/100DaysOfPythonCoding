{
  "nbformat": 4,
  "nbformat_minor": 0,
  "metadata": {
    "colab": {
      "name": "10093NumpyUfuncAbsolute.ipynb",
      "provenance": [],
      "collapsed_sections": [],
      "authorship_tag": "ABX9TyNzdcVf3gkEAWPS8VrIRXpC",
      "include_colab_link": true
    },
    "kernelspec": {
      "name": "python3",
      "display_name": "Python 3"
    },
    "language_info": {
      "name": "python"
    }
  },
  "cells": [
    {
      "cell_type": "markdown",
      "metadata": {
        "id": "view-in-github",
        "colab_type": "text"
      },
      "source": [
        "<a href=\"https://colab.research.google.com/github/Shivaram17/100DaysOfPythonCoding/blob/main/10093NumpyUfuncAbsolute.ipynb\" target=\"_parent\"><img src=\"https://colab.research.google.com/assets/colab-badge.svg\" alt=\"Open In Colab\"/></a>"
      ]
    },
    {
      "cell_type": "code",
      "source": [
        "#numpy ufunc\n",
        "import numpy as np\n",
        "from numpy import random\n",
        "import matplotlib.pyplot as plt\n",
        "\n",
        "# absolute function\n",
        "x = [-1,2,-3,4,5]\n",
        "y = [9,8,7,6,5]\n",
        "a = np.absolute(x)\n",
        "print(a)"
      ],
      "metadata": {
        "id": "7clEkNWGYGeo",
        "colab": {
          "base_uri": "https://localhost:8080/"
        },
        "outputId": "f8008f21-30dc-4871-b6ae-883d0787acf7"
      },
      "execution_count": 1,
      "outputs": [
        {
          "output_type": "stream",
          "name": "stdout",
          "text": [
            "[1 2 3 4 5]\n"
          ]
        }
      ]
    },
    {
      "cell_type": "code",
      "source": [
        " "
      ],
      "metadata": {
        "id": "c3XmGF9YF8oC"
      },
      "execution_count": null,
      "outputs": []
    }
  ]
}