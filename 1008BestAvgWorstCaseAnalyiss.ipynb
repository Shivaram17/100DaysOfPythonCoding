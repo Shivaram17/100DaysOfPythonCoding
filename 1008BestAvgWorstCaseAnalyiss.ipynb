{
  "nbformat": 4,
  "nbformat_minor": 0,
  "metadata": {
    "colab": {
      "name": "Untitled8.ipynb",
      "provenance": [],
      "authorship_tag": "ABX9TyOWboD4yV6aBYBuooJT31vU",
      "include_colab_link": true
    },
    "kernelspec": {
      "name": "python3",
      "display_name": "Python 3"
    },
    "language_info": {
      "name": "python"
    }
  },
  "cells": [
    {
      "cell_type": "markdown",
      "metadata": {
        "id": "view-in-github",
        "colab_type": "text"
      },
      "source": [
        "<a href=\"https://colab.research.google.com/github/Shivaram17/100DaysOfPythonCoding/blob/main/1008BestAvgWorstCaseAnalyiss.ipynb\" target=\"_parent\"><img src=\"https://colab.research.google.com/assets/colab-badge.svg\" alt=\"Open In Colab\"/></a>"
      ]
    },
    {
      "cell_type": "code",
      "metadata": {
        "colab": {
          "base_uri": "https://localhost:8080/"
        },
        "id": "u1cHScGtPwG0",
        "outputId": "284eec74-7a1b-41c3-c491-534083456a9f"
      },
      "source": [
        "#AlgoAnalysis for different cases i,e. best, average, and worst case analysis\n",
        "def ext(initlist):\n",
        "  n = len(initlist)\n",
        "  count =0\n",
        "  for i in range(n):\n",
        "    count =count +1\n",
        "    if initlist[i] < 0:\n",
        "      return i\n",
        "  return count\n",
        "\n",
        "#i best case\n",
        "initlist = [-2,2,4,6,7,8]\n",
        "r = ext(initlist)\n",
        "print(r)"
      ],
      "execution_count": 10,
      "outputs": [
        {
          "output_type": "stream",
          "name": "stdout",
          "text": [
            "0\n"
          ]
        }
      ]
    }
  ]
}