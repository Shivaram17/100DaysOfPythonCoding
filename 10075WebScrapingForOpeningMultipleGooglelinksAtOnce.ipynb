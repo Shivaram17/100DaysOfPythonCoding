{
  "nbformat": 4,
  "nbformat_minor": 0,
  "metadata": {
    "colab": {
      "name": "10075WebScrapingForOpeningMultipleGooglelinksAtOnce.ipynb",
      "provenance": [],
      "authorship_tag": "ABX9TyMqdjl0NIk4gfaObu3MvO0+",
      "include_colab_link": true
    },
    "kernelspec": {
      "name": "python3",
      "display_name": "Python 3"
    },
    "language_info": {
      "name": "python"
    }
  },
  "cells": [
    {
      "cell_type": "markdown",
      "metadata": {
        "id": "view-in-github",
        "colab_type": "text"
      },
      "source": [
        "<a href=\"https://colab.research.google.com/github/Shivaram17/100DaysOfPythonCoding/blob/main/10075WebScrapingForOpeningMultipleGooglelinksAtOnce.ipynb\" target=\"_parent\"><img src=\"https://colab.research.google.com/assets/colab-badge.svg\" alt=\"Open In Colab\"/></a>"
      ]
    },
    {
      "cell_type": "code",
      "source": [
        "# web scraping for - Opening several Google search results.\n",
        "import requests\n",
        "import bs4, webbrowser, sys\n",
        "\n",
        "print(\"Googling....\")#display google while retrieving google search bar\n",
        "res = requests.get('https://www.google.com/search?q=' + ' '.join(sys.argv[1:]))\n",
        "res.raise_for_status()\n",
        "res\n",
        "#TODO Retrieve top search result links\n",
        "soup = bs4.BeautifulSoup(res.text)\n",
        "\n",
        "#TODO open a browser tab for each result\n",
        "linkElems = soup.select('.r a')\n",
        "numOpen = min(5, len(linkElems))\n",
        "for i in range(numOpen):\n",
        "  webbrowser.open('http//google.com' + linkElems[i].get('href'))"
      ],
      "metadata": {
        "colab": {
          "base_uri": "https://localhost:8080/"
        },
        "id": "7clEkNWGYGeo",
        "outputId": "301b6781-d5bb-45fd-ae6f-87adb3eb8bb6"
      },
      "execution_count": 3,
      "outputs": [
        {
          "output_type": "stream",
          "name": "stdout",
          "text": [
            "Googling....\n"
          ]
        }
      ]
    },
    {
      "cell_type": "code",
      "source": [
        ""
      ],
      "metadata": {
        "id": "5LCevs9DVawq"
      },
      "execution_count": null,
      "outputs": []
    }
  ]
}