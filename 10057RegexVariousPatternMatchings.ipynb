{
  "nbformat": 4,
  "nbformat_minor": 0,
  "metadata": {
    "colab": {
      "name": "10057RegexVariousPatternMatchings.ipynb",
      "provenance": [],
      "authorship_tag": "ABX9TyNWIo33ekUKSs0lul8qT5er",
      "include_colab_link": true
    },
    "kernelspec": {
      "name": "python3",
      "display_name": "Python 3"
    },
    "language_info": {
      "name": "python"
    }
  },
  "cells": [
    {
      "cell_type": "markdown",
      "metadata": {
        "id": "view-in-github",
        "colab_type": "text"
      },
      "source": [
        "<a href=\"https://colab.research.google.com/github/Shivaram17/100DaysOfPythonCoding/blob/main/10057RegexVariousPatternMatchings.ipynb\" target=\"_parent\"><img src=\"https://colab.research.google.com/assets/colab-badge.svg\" alt=\"Open In Colab\"/></a>"
      ]
    },
    {
      "cell_type": "code",
      "source": [
        "#Code for Phone number matching using regex groups for escaping paranthesis, Pipe, *\n",
        "import re\n",
        "phoneNumRegex = re.compile(r'Virat(kholi|Anushka|Daughter)')\n",
        "match = phoneNumRegex.search('ViratAnushka are cute')\n",
        "print(\"Phone number found: \", match.group())"
      ],
      "metadata": {
        "colab": {
          "base_uri": "https://localhost:8080/"
        },
        "id": "aF1YWgTdT1VH",
        "outputId": "247d7f05-1cd6-4626-d39c-741c4a13a146"
      },
      "execution_count": 42,
      "outputs": [
        {
          "output_type": "stream",
          "name": "stdout",
          "text": [
            "Phone number found:  ViratAnushka\n"
          ]
        }
      ]
    },
    {
      "cell_type": "code",
      "source": [
        "# question mark in regex\n",
        "phoneNumRegex1 = re.compile(r'Bat(wo)?man')\n",
        "match1 = phoneNumRegex1.search('she is Batwoman')\n",
        "print(\"Phone number found: \", match1.group())"
      ],
      "metadata": {
        "id": "QPEbo7SdUJte",
        "colab": {
          "base_uri": "https://localhost:8080/"
        },
        "outputId": "8fbe991e-0abb-4bbb-e320-5e7373b4aad5"
      },
      "execution_count": 37,
      "outputs": [
        {
          "output_type": "stream",
          "name": "stdout",
          "text": [
            "Phone number found:  Batwoman\n"
          ]
        }
      ]
    },
    {
      "cell_type": "code",
      "source": [
        "#Matching zero or more with star *\n",
        "phoneNumRegex2 = re.compile(r'Bat(wo)*man')\n",
        "match2 = phoneNumRegex2.search('she is Batwowowowoman')\n",
        "print(\"Phone number found: \", match2.group())"
      ],
      "metadata": {
        "colab": {
          "base_uri": "https://localhost:8080/"
        },
        "id": "dVIMA9ZZ-0Bl",
        "outputId": "29965af1-543a-4c3a-8977-22f6755b794b"
      },
      "execution_count": 39,
      "outputs": [
        {
          "output_type": "stream",
          "name": "stdout",
          "text": [
            "Phone number found:  Batwowowowoman\n"
          ]
        }
      ]
    },
    {
      "cell_type": "code",
      "source": [
        "# #Specific repetitions with curly brackets\n",
        "h = re.compile(r'(Ha){3,5}')\n",
        "mo2 = h.search('HaHaHaHaHa HaHaHa Hasini')\n",
        "mo2.group()"
      ],
      "metadata": {
        "colab": {
          "base_uri": "https://localhost:8080/",
          "height": 35
        },
        "id": "4Ng5KH-NET9N",
        "outputId": "ef2a4411-96d9-4e28-d527-ee2cbde1de89"
      },
      "execution_count": 51,
      "outputs": [
        {
          "output_type": "execute_result",
          "data": {
            "application/vnd.google.colaboratory.intrinsic+json": {
              "type": "string"
            },
            "text/plain": [
              "'HaHaHaHaHa'"
            ]
          },
          "metadata": {},
          "execution_count": 51
        }
      ]
    },
    {
      "cell_type": "code",
      "source": [
        "#Greedy regex\n",
        "greedyRegex = re.compile(r'(lala){3,6}?') #no question mark i for greedy\n",
        "mo3 = greedyRegex.search(\"lalalalalalalala lalalala lalalalalala\")\n",
        "mo3.group()"
      ],
      "metadata": {
        "colab": {
          "base_uri": "https://localhost:8080/",
          "height": 35
        },
        "id": "ReULFOsYHvl3",
        "outputId": "c8e345ca-d579-4df7-b6ec-a6e02bf29376"
      },
      "execution_count": 59,
      "outputs": [
        {
          "output_type": "execute_result",
          "data": {
            "application/vnd.google.colaboratory.intrinsic+json": {
              "type": "string"
            },
            "text/plain": [
              "'lalalalalala'"
            ]
          },
          "metadata": {},
          "execution_count": 59
        }
      ]
    },
    {
      "cell_type": "code",
      "source": [
        ""
      ],
      "metadata": {
        "id": "TmE6EWBsIxT3"
      },
      "execution_count": null,
      "outputs": []
    }
  ]
}