{
  "nbformat": 4,
  "nbformat_minor": 0,
  "metadata": {
    "colab": {
      "name": "1003Arrays.ipynb",
      "provenance": [],
      "authorship_tag": "ABX9TyOotwDhXcyMA5v60Ag2b0uo",
      "include_colab_link": true
    },
    "kernelspec": {
      "name": "python3",
      "display_name": "Python 3"
    },
    "language_info": {
      "name": "python"
    }
  },
  "cells": [
    {
      "cell_type": "markdown",
      "metadata": {
        "id": "view-in-github",
        "colab_type": "text"
      },
      "source": [
        "<a href=\"https://colab.research.google.com/github/Shivaram17/100DaysOfPythonCoding/blob/main/1003Arrays.ipynb\" target=\"_parent\"><img src=\"https://colab.research.google.com/assets/colab-badge.svg\" alt=\"Open In Colab\"/></a>"
      ]
    },
    {
      "cell_type": "code",
      "metadata": {
        "colab": {
          "base_uri": "https://localhost:8080/"
        },
        "id": "y4Lafhcbdrrc",
        "outputId": "c39e6b03-aac1-4514-d2ff-55750dbea71e"
      },
      "source": [
        "import array as a\n",
        "import random\n",
        "\n",
        "ValueList = a.array('d', [1, 2, 3])\n",
        "\n",
        "for i in ValueList:\n",
        "  print(i)"
      ],
      "execution_count": 17,
      "outputs": [
        {
          "output_type": "stream",
          "text": [
            "1.0\n",
            "2.0\n",
            "3.0\n"
          ],
          "name": "stdout"
        }
      ]
    }
  ]
}