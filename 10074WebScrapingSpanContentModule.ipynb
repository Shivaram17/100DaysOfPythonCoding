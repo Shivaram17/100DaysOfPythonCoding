{
  "nbformat": 4,
  "nbformat_minor": 0,
  "metadata": {
    "colab": {
      "name": "10074WebScrapingSpanContentModule.ipynb",
      "provenance": [],
      "authorship_tag": "ABX9TyNDDZGIAnsqfCuGgrIAiHVQ",
      "include_colab_link": true
    },
    "kernelspec": {
      "name": "python3",
      "display_name": "Python 3"
    },
    "language_info": {
      "name": "python"
    }
  },
  "cells": [
    {
      "cell_type": "markdown",
      "metadata": {
        "id": "view-in-github",
        "colab_type": "text"
      },
      "source": [
        "<a href=\"https://colab.research.google.com/github/Shivaram17/100DaysOfPythonCoding/blob/main/10074WebScrapingSpanContentModule.ipynb\" target=\"_parent\"><img src=\"https://colab.research.google.com/assets/colab-badge.svg\" alt=\"Open In Colab\"/></a>"
      ]
    },
    {
      "cell_type": "code",
      "source": [
        "# web scraping for downloading the noStarch.com website and accessing the html span elements content using BeautifulSoup library\n",
        "import requests\n",
        "import bs4\n",
        "res = requests.get('https://nostarch.com')\n",
        "res.raise_for_status\n",
        "noStarchSoup = bs4.BeautifulSoup(res.text)\n",
        "type(noStarchSoup)\n",
        "elems = noStarchSoup.select('span')[0]\n",
        "elems.get('some_nonexistent_addr') == None\n",
        "elems.attrs"
      ],
      "metadata": {
        "colab": {
          "base_uri": "https://localhost:8080/"
        },
        "id": "7clEkNWGYGeo",
        "outputId": "270581ac-9ce7-4db9-aec6-ad544bff80c7"
      },
      "execution_count": 5,
      "outputs": [
        {
          "output_type": "execute_result",
          "data": {
            "text/plain": [
              "{'class': ['sr-only']}"
            ]
          },
          "metadata": {},
          "execution_count": 5
        }
      ]
    },
    {
      "cell_type": "code",
      "source": [
        ""
      ],
      "metadata": {
        "id": "uDH5cHstYXwo",
        "colab": {
          "base_uri": "https://localhost:8080/"
        },
        "outputId": "36be6a20-4f28-4cb1-eb1b-1512888d5dee"
      },
      "execution_count": null,
      "outputs": [
        {
          "output_type": "stream",
          "name": "stdout",
          "text": [
            "The price is 49 dollars\n"
          ]
        }
      ]
    },
    {
      "cell_type": "code",
      "source": [
        ""
      ],
      "metadata": {
        "id": "Ks5cQ7r-mVrO"
      },
      "execution_count": null,
      "outputs": []
    }
  ]
}