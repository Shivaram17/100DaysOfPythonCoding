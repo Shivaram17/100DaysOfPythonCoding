{
  "nbformat": 4,
  "nbformat_minor": 0,
  "metadata": {
    "colab": {
      "name": "10068Dict_frequencyfindingMethod.ipynb",
      "provenance": [],
      "authorship_tag": "ABX9TyMz7sRg9Hz5FbN1PzMApayP",
      "include_colab_link": true
    },
    "kernelspec": {
      "name": "python3",
      "display_name": "Python 3"
    },
    "language_info": {
      "name": "python"
    }
  },
  "cells": [
    {
      "cell_type": "markdown",
      "metadata": {
        "id": "view-in-github",
        "colab_type": "text"
      },
      "source": [
        "<a href=\"https://colab.research.google.com/github/Shivaram17/100DaysOfPythonCoding/blob/main/10068Dict_frequencyfindingMethod.ipynb\" target=\"_parent\"><img src=\"https://colab.research.google.com/assets/colab-badge.svg\" alt=\"Open In Colab\"/></a>"
      ]
    },
    {
      "cell_type": "code",
      "source": [
        "message = \" I am having fun at Gokarna beach with my friends.\"\n",
        "count = {}\n",
        "\n",
        "for character in message:\n",
        "  count.setdefault(character, 0)\n",
        "  count[character] = count[character] + 1\n",
        "\n",
        "print(count)"
      ],
      "metadata": {
        "colab": {
          "base_uri": "https://localhost:8080/"
        },
        "id": "7clEkNWGYGeo",
        "outputId": "894bce39-6887-403d-82f5-ab5f4cb9974b"
      },
      "execution_count": 6,
      "outputs": [
        {
          "output_type": "stream",
          "name": "stdout",
          "text": [
            "{' ': 10, 'I': 1, 'a': 6, 'm': 2, 'h': 3, 'v': 1, 'i': 3, 'n': 4, 'g': 1, 'f': 2, 'u': 1, 't': 2, 'G': 1, 'o': 1, 'k': 1, 'r': 2, 'b': 1, 'e': 2, 'c': 1, 'w': 1, 'y': 1, 'd': 1, 's': 1, '.': 1}\n"
          ]
        }
      ]
    },
    {
      "cell_type": "code",
      "source": [
        ""
      ],
      "metadata": {
        "id": "uDH5cHstYXwo",
        "colab": {
          "base_uri": "https://localhost:8080/"
        },
        "outputId": "2d2a61e0-b8b0-4a3d-a33a-7eab155b5a85"
      },
      "execution_count": 3,
      "outputs": [
        {
          "output_type": "execute_result",
          "data": {
            "text/plain": [
              "{'age': 5, 'color': 'black', 'name': 'leka'}"
            ]
          },
          "metadata": {},
          "execution_count": 3
        }
      ]
    },
    {
      "cell_type": "code",
      "source": [
        ""
      ],
      "metadata": {
        "id": "Ks5cQ7r-mVrO"
      },
      "execution_count": null,
      "outputs": []
    }
  ]
}