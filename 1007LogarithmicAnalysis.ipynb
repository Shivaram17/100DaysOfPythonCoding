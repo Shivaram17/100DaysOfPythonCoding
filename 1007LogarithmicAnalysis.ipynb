{
  "nbformat": 4,
  "nbformat_minor": 0,
  "metadata": {
    "colab": {
      "name": "1007LogarithmicAnalysis.ipynb",
      "provenance": [],
      "authorship_tag": "ABX9TyMDjRQXLFmg76pXnboEf1eM",
      "include_colab_link": true
    },
    "kernelspec": {
      "name": "python3",
      "display_name": "Python 3"
    },
    "language_info": {
      "name": "python"
    }
  },
  "cells": [
    {
      "cell_type": "markdown",
      "metadata": {
        "id": "view-in-github",
        "colab_type": "text"
      },
      "source": [
        "<a href=\"https://colab.research.google.com/github/Shivaram17/100DaysOfPythonCoding/blob/main/1007LogarithmicAnalysis.ipynb\" target=\"_parent\"><img src=\"https://colab.research.google.com/assets/colab-badge.svg\" alt=\"Open In Colab\"/></a>"
      ]
    },
    {
      "cell_type": "code",
      "metadata": {
        "colab": {
          "base_uri": "https://localhost:8080/"
        },
        "id": "M6katpuzMUZc",
        "outputId": "efe183d6-d909-4bfa-80d5-ce4bc0a3db4d"
      },
      "source": [
        "# Logarithmic analysis logn and nlogn.\n",
        "def ext(n):\n",
        "  count=0\n",
        "  while n>=1:\n",
        "    count = count + 1 \n",
        "    n = n/2\n",
        "  return count\n",
        "\n",
        "#nlogn calling a function from inside a function  \n",
        "def ext1(n):\n",
        "  c =0\n",
        "  for i in range(n):\n",
        "    c = c+ext(n)\n",
        "  return c\n",
        "ext1(8)"
      ],
      "execution_count": 21,
      "outputs": [
        {
          "output_type": "execute_result",
          "data": {
            "text/plain": [
              "32"
            ]
          },
          "metadata": {},
          "execution_count": 21
        }
      ]
    },
    {
      "cell_type": "code",
      "metadata": {
        "colab": {
          "base_uri": "https://localhost:8080/"
        },
        "id": "pV8ughMtOVbY",
        "outputId": "4931b37b-aef7-4cd6-93af-473fa300ad99"
      },
      "source": [
        "\n"
      ],
      "execution_count": 13,
      "outputs": [
        {
          "output_type": "execute_result",
          "data": {
            "text/plain": [
              "192"
            ]
          },
          "metadata": {},
          "execution_count": 13
        }
      ]
    }
  ]
}