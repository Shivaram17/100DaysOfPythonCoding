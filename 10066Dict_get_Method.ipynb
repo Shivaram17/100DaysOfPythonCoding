{
  "nbformat": 4,
  "nbformat_minor": 0,
  "metadata": {
    "colab": {
      "name": "10066Dict_get_Method.ipynb",
      "provenance": [],
      "authorship_tag": "ABX9TyPiT/FDVG6NFG9vsOoUCqbP",
      "include_colab_link": true
    },
    "kernelspec": {
      "name": "python3",
      "display_name": "Python 3"
    },
    "language_info": {
      "name": "python"
    }
  },
  "cells": [
    {
      "cell_type": "markdown",
      "metadata": {
        "id": "view-in-github",
        "colab_type": "text"
      },
      "source": [
        "<a href=\"https://colab.research.google.com/github/Shivaram17/100DaysOfPythonCoding/blob/main/10066Dict_get_Method.ipynb\" target=\"_parent\"><img src=\"https://colab.research.google.com/assets/colab-badge.svg\" alt=\"Open In Colab\"/></a>"
      ]
    },
    {
      "cell_type": "code",
      "source": [
        "# Reading files current directory\n",
        "import math\n",
        "a = math.ceil(2.3)\n",
        "b = math.floor(2.3)\n",
        "c = a + b\n",
        "c"
      ],
      "metadata": {
        "colab": {
          "base_uri": "https://localhost:8080/"
        },
        "id": "7clEkNWGYGeo",
        "outputId": "c538b25c-980b-4e3f-b025-0dcd034ee979"
      },
      "execution_count": null,
      "outputs": [
        {
          "output_type": "execute_result",
          "data": {
            "text/plain": [
              "5"
            ]
          },
          "metadata": {},
          "execution_count": 41
        }
      ]
    },
    {
      "cell_type": "code",
      "source": [
        "picnicItems = {'apples': 5, 'cups': 2}\n",
        "print(\"I am bringing \" + str(picnicItems.get('cups', 0)) + ' cups')\n",
        "print(\"I am bringing \" + str(picnicItems.get('eggs', 0)) + ' eggs')\n",
        "\n"
      ],
      "metadata": {
        "id": "uDH5cHstYXwo",
        "colab": {
          "base_uri": "https://localhost:8080/"
        },
        "outputId": "39829e19-6ad1-47e2-f830-bd2df555db34"
      },
      "execution_count": 2,
      "outputs": [
        {
          "output_type": "stream",
          "name": "stdout",
          "text": [
            "I am bringing 2 cups\n",
            "I am bringing 0 eggs\n"
          ]
        }
      ]
    },
    {
      "cell_type": "code",
      "source": [
        ""
      ],
      "metadata": {
        "id": "Ks5cQ7r-mVrO"
      },
      "execution_count": null,
      "outputs": []
    }
  ]
}