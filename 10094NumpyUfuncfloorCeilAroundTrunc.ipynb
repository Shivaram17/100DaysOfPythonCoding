{
  "nbformat": 4,
  "nbformat_minor": 0,
  "metadata": {
    "colab": {
      "name": "10094NumpyUfuncfloorCeilAroundTrunc.ipynb",
      "provenance": [],
      "collapsed_sections": [],
      "authorship_tag": "ABX9TyO67rzv8saZAOBh1lKLdfYN",
      "include_colab_link": true
    },
    "kernelspec": {
      "name": "python3",
      "display_name": "Python 3"
    },
    "language_info": {
      "name": "python"
    }
  },
  "cells": [
    {
      "cell_type": "markdown",
      "metadata": {
        "id": "view-in-github",
        "colab_type": "text"
      },
      "source": [
        "<a href=\"https://colab.research.google.com/github/Shivaram17/100DaysOfPythonCoding/blob/main/10094NumpyUfuncfloorCeilAroundTrunc.ipynb\" target=\"_parent\"><img src=\"https://colab.research.google.com/assets/colab-badge.svg\" alt=\"Open In Colab\"/></a>"
      ]
    },
    {
      "cell_type": "code",
      "source": [
        "#numpy ufunc\n",
        "import numpy as np\n",
        "from numpy import random\n",
        "import matplotlib.pyplot as plt\n",
        "\n",
        "# absolute function\n",
        "x = [-1,2,-3,4,5]\n",
        "y = [9,8,7,6,5]\n",
        "a = np.absolute(x)\n",
        "print(a)\n",
        "\n",
        "# floor, ceil, around, and truncate\n",
        "b = np.trunc([-3.166, 3.66])\n",
        "c = np.around([-3.166, 3.66])\n",
        "d = np.floor([-3.166, 3.66])\n",
        "e = np.ceil([-3.166, 3.66])\n",
        "print(b, c, d, e)\n",
        "\n"
      ],
      "metadata": {
        "id": "7clEkNWGYGeo",
        "colab": {
          "base_uri": "https://localhost:8080/"
        },
        "outputId": "7076380c-dc82-4c8e-e6e9-f78ec409f529"
      },
      "execution_count": 3,
      "outputs": [
        {
          "output_type": "stream",
          "name": "stdout",
          "text": [
            "[1 2 3 4 5]\n",
            "[-3.  3.] [-3.  4.] [-4.  3.] [-3.  4.]\n"
          ]
        }
      ]
    },
    {
      "cell_type": "code",
      "source": [
        " "
      ],
      "metadata": {
        "id": "c3XmGF9YF8oC"
      },
      "execution_count": null,
      "outputs": []
    }
  ]
}