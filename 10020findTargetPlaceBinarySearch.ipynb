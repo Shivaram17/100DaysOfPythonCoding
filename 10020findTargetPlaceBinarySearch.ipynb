{
  "nbformat": 4,
  "nbformat_minor": 0,
  "metadata": {
    "colab": {
      "name": "10020findTargetPlaceBinarySearch.ipynb",
      "provenance": [],
      "authorship_tag": "ABX9TyO02ywpJQ3dyPsfTbyQr4rL",
      "include_colab_link": true
    },
    "kernelspec": {
      "name": "python3",
      "display_name": "Python 3"
    },
    "language_info": {
      "name": "python"
    }
  },
  "cells": [
    {
      "cell_type": "markdown",
      "metadata": {
        "id": "view-in-github",
        "colab_type": "text"
      },
      "source": [
        "<a href=\"https://colab.research.google.com/github/Shivaram17/100DaysOfPythonCoding/blob/main/10020findTargetPlaceBinarySearch.ipynb\" target=\"_parent\"><img src=\"https://colab.research.google.com/assets/colab-badge.svg\" alt=\"Open In Colab\"/></a>"
      ]
    },
    {
      "cell_type": "code",
      "metadata": {
        "colab": {
          "base_uri": "https://localhost:8080/"
        },
        "id": "cAriJYLxMYOD",
        "outputId": "08bd4b2f-4cde-42b1-bedb-5866035b1b6c"
      },
      "source": [
        "#Finding the location to place a new target value using binary search\n",
        "def findTargetBinarySearch(theSeq, target):\n",
        "  n=len(theSeq) - 1\n",
        "  low = 0\n",
        "  high = n\n",
        "  while low <= high:\n",
        "    mid = (low + high) // 2\n",
        "    if target == theSeq[mid]:\n",
        "      return mid\n",
        "    elif target < theSeq[mid]:\n",
        "      high = mid - 1\n",
        "    else:\n",
        "      low = mid +1\n",
        "  return print(\"The target value \",target,\" should be place at index: \", low)\n",
        "\n",
        "# calling the binary search function\n",
        "theSeq=[1,2,3,4,5,6,7,12,25.45,100]\n",
        "target = 101\n",
        "findTargetBinarySearch(theSeq, target)"
      ],
      "execution_count": 4,
      "outputs": [
        {
          "output_type": "stream",
          "name": "stdout",
          "text": [
            "The target value  101  should be place at index:  10\n"
          ]
        }
      ]
    }
  ]
}