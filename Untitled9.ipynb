{
  "nbformat": 4,
  "nbformat_minor": 0,
  "metadata": {
    "colab": {
      "name": "Untitled9.ipynb",
      "provenance": [],
      "authorship_tag": "ABX9TyMQ6w3AxAcwZnHCyz69xjjM",
      "include_colab_link": true
    },
    "kernelspec": {
      "name": "python3",
      "display_name": "Python 3"
    },
    "language_info": {
      "name": "python"
    }
  },
  "cells": [
    {
      "cell_type": "markdown",
      "metadata": {
        "id": "view-in-github",
        "colab_type": "text"
      },
      "source": [
        "<a href=\"https://colab.research.google.com/github/Shivaram17/100DaysOfPythonCoding/blob/main/Untitled9.ipynb\" target=\"_parent\"><img src=\"https://colab.research.google.com/assets/colab-badge.svg\" alt=\"Open In Colab\"/></a>"
      ]
    },
    {
      "cell_type": "code",
      "metadata": {
        "id": "BEK1UUWQh28d",
        "colab": {
          "base_uri": "https://localhost:8080/"
        },
        "outputId": "554d8694-f2d8-497c-d14f-c528b111bbc4"
      },
      "source": [
        "#Selection sort code\n",
        "def selectionSort(theValues):\n",
        "  n = len(theValues)\n",
        "  for i in range(n-1):\n",
        "    #smallest value \n",
        "    smallIndex = i\n",
        "    for j in range(i+1,n):\n",
        "      if theValues[j] < theValues[smallIndex]:\n",
        "        smallIndex = j\n",
        "    # swap the value if only smallIndex is different from i\n",
        "    if smallIndex != i:\n",
        "      theValues[smallIndex],theValues[i] = theValues[i], theValues[smallIndex]\n",
        "  return theValues\n",
        "\n",
        "#calling the selection sort function\n",
        "theValues = [7,17,8,21,3,82,2,11,16,6,1,4]\n",
        "selectionSort(theValues)"
      ],
      "execution_count": 6,
      "outputs": [
        {
          "output_type": "execute_result",
          "data": {
            "text/plain": [
              "[1, 2, 3, 4, 6, 7, 8, 11, 16, 17, 21, 82]"
            ]
          },
          "metadata": {},
          "execution_count": 6
        }
      ]
    }
  ]
}