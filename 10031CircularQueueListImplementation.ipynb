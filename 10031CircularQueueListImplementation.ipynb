{
  "nbformat": 4,
  "nbformat_minor": 0,
  "metadata": {
    "colab": {
      "name": "10031CircularQueueListImplementation.ipynb",
      "provenance": [],
      "authorship_tag": "ABX9TyMmTeLyui/fUeFKgNfml/et",
      "include_colab_link": true
    },
    "kernelspec": {
      "name": "python3",
      "display_name": "Python 3"
    },
    "language_info": {
      "name": "python"
    }
  },
  "cells": [
    {
      "cell_type": "markdown",
      "metadata": {
        "id": "view-in-github",
        "colab_type": "text"
      },
      "source": [
        "<a href=\"https://colab.research.google.com/github/Shivaram17/100DaysOfPythonCoding/blob/main/10031CircularQueueListImplementation.ipynb\" target=\"_parent\"><img src=\"https://colab.research.google.com/assets/colab-badge.svg\" alt=\"Open In Colab\"/></a>"
      ]
    },
    {
      "cell_type": "code",
      "metadata": {
        "colab": {
          "base_uri": "https://localhost:8080/"
        },
        "id": "ZHLwi1EdDQSq",
        "outputId": "5dc33c96-0de4-4a46-9940-a25f636b0f3e"
      },
      "source": [
        "# Implementation of Queue using python list\n",
        "class circularQueue :\n",
        "  def __init__(self, maxSize):\n",
        "    self.count = 0\n",
        "    self.front = 0\n",
        "    self.back = maxSize - 1\n",
        "    array = [None] * maxSize\n",
        "    self.qArr = array \n",
        "\n",
        "  #isEmpty func\n",
        "  def isEmpty(self):\n",
        "    return self.count == 0\n",
        "\n",
        "  #isFull func\n",
        "  def isFull(self):\n",
        "    return self.count == len(self.qArr)\n",
        "\n",
        "  # returns the no of items in list\n",
        "  def __len__(self):\n",
        "    return len(self.qArr)\n",
        "\n",
        "  # Enqueue func\n",
        "  def enqueue(self, value):\n",
        "    assert not self.isFull() # cannot enqueue to full queue\n",
        "    maxSize = len(self.qArr)\n",
        "    self.back = (self.back + 1) % maxSize\n",
        "    self.qArr[self.back] = value\n",
        "    self.count += 1\n",
        "\n",
        "    \n",
        "  # Dequeue func \n",
        "  def dequeue(self):\n",
        "    assert not self.isEmpty() # cannot dequeue from am empty queue\n",
        "    value = self.qArr[self.front]\n",
        "    maxSize = len(self.qArr)\n",
        "    self.front = (self.front + 1 ) % maxSize\n",
        "    self.count -=1\n",
        "    return value \n",
        "    \n",
        "\n",
        "#calling Queue class\n",
        "qA = circularQueue(5)\n",
        "qA.enqueue(10)\n",
        "qA.enqueue(12)\n",
        "qA.enqueue(14)\n",
        "qA.enqueue(13)\n",
        "qA.dequeue()\n",
        "print(qA.qArr)\n",
        "\n",
        "\n",
        "\n"
      ],
      "execution_count": 10,
      "outputs": [
        {
          "output_type": "stream",
          "name": "stdout",
          "text": [
            "[10, 12, 14, 13, None]\n"
          ]
        }
      ]
    },
    {
      "cell_type": "code",
      "metadata": {
        "id": "U5JrFAbHDZu2"
      },
      "source": [
        ""
      ],
      "execution_count": null,
      "outputs": []
    }
  ]
}