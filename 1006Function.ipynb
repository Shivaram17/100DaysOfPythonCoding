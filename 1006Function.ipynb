{
  "nbformat": 4,
  "nbformat_minor": 0,
  "metadata": {
    "colab": {
      "name": "1006Function.ipynb",
      "provenance": [],
      "authorship_tag": "ABX9TyMETzr6V6cZGCL8rKeG/YMP",
      "include_colab_link": true
    },
    "kernelspec": {
      "name": "python3",
      "display_name": "Python 3"
    },
    "language_info": {
      "name": "python"
    }
  },
  "cells": [
    {
      "cell_type": "markdown",
      "metadata": {
        "id": "view-in-github",
        "colab_type": "text"
      },
      "source": [
        "<a href=\"https://colab.research.google.com/github/Shivaram17/100DaysOfPythonCoding/blob/main/1006Function.ipynb\" target=\"_parent\"><img src=\"https://colab.research.google.com/assets/colab-badge.svg\" alt=\"Open In Colab\"/></a>"
      ]
    },
    {
      "cell_type": "code",
      "metadata": {
        "colab": {
          "base_uri": "https://localhost:8080/"
        },
        "id": "NspYuhs8JDZR",
        "outputId": "0cb38ed3-dce2-4bd6-ed91-b91ca588378d"
      },
      "source": [
        "def func(*args):\n",
        "  print(\"Number of arguments\", len(args))\n",
        "  sum =0\n",
        "  for val in args:\n",
        "    sum+=val\n",
        "  print(sum)\n",
        "func(12)\n",
        "func(5,8,12)\n",
        "func(2,4,56,7)"
      ],
      "execution_count": 5,
      "outputs": [
        {
          "output_type": "stream",
          "name": "stdout",
          "text": [
            "Number of arguments 1\n",
            "12\n",
            "Number of arguments 3\n",
            "25\n",
            "Number of arguments 4\n",
            "69\n"
          ]
        }
      ]
    }
  ]
}