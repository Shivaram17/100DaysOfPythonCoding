{
  "nbformat": 4,
  "nbformat_minor": 0,
  "metadata": {
    "colab": {
      "name": "10030QueueListImplementation.ipynb",
      "provenance": [],
      "authorship_tag": "ABX9TyPcrALstjBGGCx5CpTy453N",
      "include_colab_link": true
    },
    "kernelspec": {
      "name": "python3",
      "display_name": "Python 3"
    },
    "language_info": {
      "name": "python"
    }
  },
  "cells": [
    {
      "cell_type": "markdown",
      "metadata": {
        "id": "view-in-github",
        "colab_type": "text"
      },
      "source": [
        "<a href=\"https://colab.research.google.com/github/Shivaram17/100DaysOfPythonCoding/blob/main/10030QueueListImplementation.ipynb\" target=\"_parent\"><img src=\"https://colab.research.google.com/assets/colab-badge.svg\" alt=\"Open In Colab\"/></a>"
      ]
    },
    {
      "cell_type": "code",
      "metadata": {
        "colab": {
          "base_uri": "https://localhost:8080/"
        },
        "id": "ZHLwi1EdDQSq",
        "outputId": "65e0a52a-f7b6-4128-f016-249d491d0d69"
      },
      "source": [
        "# Implementation of Queue using python list\n",
        "class Queue :\n",
        "  def __init__(self):\n",
        "    self.qlist = list()\n",
        "\n",
        "  #isEmpty func\n",
        "  def isEmpty(self):\n",
        "    return len(self) == 0\n",
        "  # returns the no of items in list\n",
        "  def __len__(self):\n",
        "    return len(self.qlist)\n",
        "\n",
        "  # Enqueue func\n",
        "  def enqueue(self, value):\n",
        "    self.qlist.append(value)\n",
        "\n",
        "  # Dequeue func \n",
        "  def dequeue(self):\n",
        "    assert not self.isEmpty() # cannot dequeue from am empty queue\n",
        "    self.qlist.pop(0)\n",
        "  \n",
        "\n",
        "#calling Queue class\n",
        "ql = Queue()\n",
        "ql.enqueue(10)\n",
        "ql.enqueue(12)\n",
        "ql.enqueue(1)\n",
        "ql.enqueue(28)\n",
        "print(ql.__len__())\n",
        "ql.dequeue()\n",
        "print(ql.qlist)\n",
        "\n",
        "\n"
      ],
      "execution_count": 4,
      "outputs": [
        {
          "output_type": "stream",
          "name": "stdout",
          "text": [
            "4\n",
            "[12, 1, 28]\n"
          ]
        }
      ]
    },
    {
      "cell_type": "code",
      "metadata": {
        "id": "U5JrFAbHDZu2"
      },
      "source": [
        ""
      ],
      "execution_count": null,
      "outputs": []
    }
  ]
}