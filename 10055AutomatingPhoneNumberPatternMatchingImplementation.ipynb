{
  "nbformat": 4,
  "nbformat_minor": 0,
  "metadata": {
    "colab": {
      "name": "10055AutomatingPhoneNumberPatternMatchingImplementation.ipynb",
      "provenance": [],
      "authorship_tag": "ABX9TyPG2pfjJZgxAidXBDAx1ixg",
      "include_colab_link": true
    },
    "kernelspec": {
      "name": "python3",
      "display_name": "Python 3"
    },
    "language_info": {
      "name": "python"
    }
  },
  "cells": [
    {
      "cell_type": "markdown",
      "metadata": {
        "id": "view-in-github",
        "colab_type": "text"
      },
      "source": [
        "<a href=\"https://colab.research.google.com/github/Shivaram17/100DaysOfPythonCoding/blob/main/10055AutomatingPhoneNumberPatternMatchingImplementation.ipynb\" target=\"_parent\"><img src=\"https://colab.research.google.com/assets/colab-badge.svg\" alt=\"Open In Colab\"/></a>"
      ]
    },
    {
      "cell_type": "code",
      "source": [
        "#Brute force method for finding pattern of a phone number\n",
        "def IsPhoneNumber(x):\n",
        "  if len(x) != 12:\n",
        "    return False\n",
        "  for i in range(0,3):\n",
        "    if not x[i].isdecimal():\n",
        "      return False\n",
        "  if x[3] != '-':\n",
        "    return False\n",
        "  for i in range(4,7):\n",
        "    if not x[i].isdecimal():\n",
        "      return False\n",
        "  if x[7] != '-':\n",
        "    return False\n",
        "  for i in range(8,12):\n",
        "    if not x[i].isdecimal():\n",
        "      return False\n",
        "  return True\n",
        "\n",
        "IsPhoneNumber('123-123-233')"
      ],
      "metadata": {
        "colab": {
          "base_uri": "https://localhost:8080/"
        },
        "id": "aF1YWgTdT1VH",
        "outputId": "c3600e27-738a-4953-8972-aeaa502cced2"
      },
      "execution_count": 5,
      "outputs": [
        {
          "output_type": "execute_result",
          "data": {
            "text/plain": [
              "False"
            ]
          },
          "metadata": {},
          "execution_count": 5
        }
      ]
    },
    {
      "cell_type": "code",
      "source": [
        ""
      ],
      "metadata": {
        "id": "QPEbo7SdUJte"
      },
      "execution_count": null,
      "outputs": []
    }
  ]
}