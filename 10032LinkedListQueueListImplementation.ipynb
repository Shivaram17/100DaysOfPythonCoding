{
  "nbformat": 4,
  "nbformat_minor": 0,
  "metadata": {
    "colab": {
      "name": "10032LinkedListQueueListImplementation.ipynb",
      "provenance": [],
      "authorship_tag": "ABX9TyNSJG5mYTTU+Oo5XUQNLTdi",
      "include_colab_link": true
    },
    "kernelspec": {
      "name": "python3",
      "display_name": "Python 3"
    },
    "language_info": {
      "name": "python"
    }
  },
  "cells": [
    {
      "cell_type": "markdown",
      "metadata": {
        "id": "view-in-github",
        "colab_type": "text"
      },
      "source": [
        "<a href=\"https://colab.research.google.com/github/Shivaram17/100DaysOfPythonCoding/blob/main/10032LinkedListQueueListImplementation.ipynb\" target=\"_parent\"><img src=\"https://colab.research.google.com/assets/colab-badge.svg\" alt=\"Open In Colab\"/></a>"
      ]
    },
    {
      "cell_type": "code",
      "metadata": {
        "colab": {
          "base_uri": "https://localhost:8080/"
        },
        "id": "ZHLwi1EdDQSq",
        "outputId": "f81b1514-b351-422e-8d3d-aabf2e5a277a"
      },
      "source": [
        "# Implementation of Queue using python LinkedlistQueue\n",
        "class Queue :\n",
        "  def __init__(self):\n",
        "    self.qhead = None\n",
        "    self.qtail = None\n",
        "    self.count = 0\n",
        "    \n",
        "\n",
        "  #isEmpty func\n",
        "  def isEmpty(self):\n",
        "    return self.qhead is None\n",
        "    \n",
        "\n",
        "  # returns the no of items in list\n",
        "  def __len__(self):\n",
        "    return self.count\n",
        "   \n",
        "  # Enqueue func\n",
        "  def enqueue(self, value):\n",
        "    node = QueueNode(value)\n",
        "    if self.isEmpty():\n",
        "      self.qhead = node\n",
        "    else:\n",
        "      self.qtail.next = node\n",
        "\n",
        "    self.qtail = node\n",
        "    self.count += 1\n",
        "  \n",
        "  # Dequeue func \n",
        "  def dequeue(self):\n",
        "    assert not self.isEmpty() # cannot dequeue from an empty node\n",
        "    node = self.qhead\n",
        "    if self.qhead is self.qtail:\n",
        "      self.qtail = None\n",
        "      self.qhead = self.qhead.next\n",
        "      self.count -= 1\n",
        "    return node.value\n",
        "    \n",
        "#private storage class for creating the linkedlist node\n",
        "class QueueNode:\n",
        "  def __init__(self, value):\n",
        "    self.value = value\n",
        "    self.next = None\n",
        "\n",
        "\n",
        "#calling Queue class\n",
        "llq = Queue()\n",
        "llq.enqueue(5)\n",
        "llq.enqueue(6)\n",
        "llq.enqueue(4)\n",
        "llq.dequeue()\n",
        "\n",
        "\n",
        "\n",
        "\n",
        "\n",
        "\n"
      ],
      "execution_count": 4,
      "outputs": [
        {
          "output_type": "execute_result",
          "data": {
            "text/plain": [
              "5"
            ]
          },
          "metadata": {},
          "execution_count": 4
        }
      ]
    },
    {
      "cell_type": "code",
      "metadata": {
        "id": "U5JrFAbHDZu2"
      },
      "source": [
        ""
      ],
      "execution_count": null,
      "outputs": []
    }
  ]
}