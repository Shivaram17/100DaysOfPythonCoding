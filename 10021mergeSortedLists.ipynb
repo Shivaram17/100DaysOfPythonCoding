{
  "nbformat": 4,
  "nbformat_minor": 0,
  "metadata": {
    "colab": {
      "name": "10021mergeSortedLists.ipynb",
      "provenance": [],
      "authorship_tag": "ABX9TyOBZpuI9uCjJMGEfQpGfMGG",
      "include_colab_link": true
    },
    "kernelspec": {
      "name": "python3",
      "display_name": "Python 3"
    },
    "language_info": {
      "name": "python"
    }
  },
  "cells": [
    {
      "cell_type": "markdown",
      "metadata": {
        "id": "view-in-github",
        "colab_type": "text"
      },
      "source": [
        "<a href=\"https://colab.research.google.com/github/Shivaram17/100DaysOfPythonCoding/blob/main/10021mergeSortedLists.ipynb\" target=\"_parent\"><img src=\"https://colab.research.google.com/assets/colab-badge.svg\" alt=\"Open In Colab\"/></a>"
      ]
    },
    {
      "cell_type": "code",
      "metadata": {
        "colab": {
          "base_uri": "https://localhost:8080/"
        },
        "id": "v6ODE3uFXYiE",
        "outputId": "768ad8d0-6bb1-47ad-e1d3-4f7ca611166e"
      },
      "source": [
        "#Merging two sorted lists\n",
        "\n",
        "def mergeSortedList(listA, listB):\n",
        "  #create an empty list to store the merged list\n",
        "  newList = list()\n",
        "\n",
        "  a = 0\n",
        "  b = 0\n",
        "\n",
        "  while a < len(listA) and b < len(listB) :\n",
        "    if listA[a] < listB[b]:\n",
        "      #append listA[a] to newlist\n",
        "      newList.append(listA[a])\n",
        "      a +=1\n",
        "    else:\n",
        "      #append listB[b] to newlist \n",
        "      newList.append(listB[b])\n",
        "      b +=1\n",
        "    \n",
        "\n",
        "  #if listA contains more items \n",
        "  while a < len(listA):\n",
        "    newList.append(listA[a])\n",
        "    a +=1\n",
        "  \n",
        "  #or if listB contains more items \n",
        "  while b < len(listB):\n",
        "    newList.append(listB[b])\n",
        "    b +=1\n",
        "  \n",
        "  return newList\n",
        "\n",
        "#calling mergeSortedList function\n",
        "listA = [2,4,6,8,10]\n",
        "listB = [1,3,5,7,9]\n",
        "\n",
        "mergeSortedList(listA, listB)"
      ],
      "execution_count": 3,
      "outputs": [
        {
          "output_type": "execute_result",
          "data": {
            "text/plain": [
              "[1, 2, 3, 4, 5, 6, 7, 8, 9, 10]"
            ]
          },
          "metadata": {},
          "execution_count": 3
        }
      ]
    }
  ]
}