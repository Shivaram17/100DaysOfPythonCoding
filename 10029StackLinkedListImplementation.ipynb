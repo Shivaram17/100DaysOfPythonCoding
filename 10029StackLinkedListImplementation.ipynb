{
  "nbformat": 4,
  "nbformat_minor": 0,
  "metadata": {
    "colab": {
      "name": "10029StackLinkedListImplementation.ipynb",
      "provenance": [],
      "authorship_tag": "ABX9TyM0rydu5tPegzuVIkCksmkB",
      "include_colab_link": true
    },
    "kernelspec": {
      "name": "python3",
      "display_name": "Python 3"
    },
    "language_info": {
      "name": "python"
    }
  },
  "cells": [
    {
      "cell_type": "markdown",
      "metadata": {
        "id": "view-in-github",
        "colab_type": "text"
      },
      "source": [
        "<a href=\"https://colab.research.google.com/github/Shivaram17/100DaysOfPythonCoding/blob/main/10029StackLinkedListImplementation.ipynb\" target=\"_parent\"><img src=\"https://colab.research.google.com/assets/colab-badge.svg\" alt=\"Open In Colab\"/></a>"
      ]
    },
    {
      "cell_type": "code",
      "metadata": {
        "colab": {
          "base_uri": "https://localhost:8080/"
        },
        "id": "ZHLwi1EdDQSq",
        "outputId": "e84fee4c-8f1f-45cd-8130-0ee4e2034463"
      },
      "source": [
        "# Implementation of stack using python linked list\n",
        "\n",
        "class Stack:\n",
        "  #creates an empty stack\n",
        "  def __init__(self):\n",
        "    self.top = None\n",
        "    self.size = 0\n",
        "  \n",
        "  # isEmpty function\n",
        "  def isEmpty(self):\n",
        "    return self.top is None\n",
        "  \n",
        "  # find length function\n",
        "  def __len__(self):\n",
        "    return self.size\n",
        "\n",
        "  # Returns the top item on the stack without removing it peek\n",
        "  def peek(self):\n",
        "    #check if stack is empty\n",
        "    assert not self.isEmpty()\n",
        "    return self.top.item\n",
        "  \n",
        "  # Returns the top item on the stack and removing it pop func\n",
        "  def pop(self):\n",
        "    assert not self.isEmpty()\n",
        "    node = self.top\n",
        "    self.top = self.top.next\n",
        "    self.size -= 1\n",
        "    return node.item\n",
        "\n",
        "  # Pushes an item to the top of the stack\n",
        "  def  push(self, item):\n",
        "    self.top = stackNode(item, self.top) # here we are calling the stackNode class to create a new node and append the self.top as next link\n",
        "    self.size += 1\n",
        "\n",
        "\n",
        "# stack node class for generating a node\n",
        "class stackNode:\n",
        "  def __init__(self, item, next):\n",
        "    self.item = item\n",
        "    self.next = next\n",
        "\n",
        "\n",
        "# calling stack class\n",
        "stackLinkedList = Stack()\n",
        "print(stackLinkedList.isEmpty())\n",
        "stackLinkedList.push(5)\n",
        "stackLinkedList.push(8)\n",
        "stackLinkedList.push(20)\n",
        "stackLinkedList.push(19)\n",
        "print(stackLinkedList.pop())\n",
        "print(stackLinkedList.__len__())\n",
        "stackLinkedList.peek()\n",
        "\n",
        "\n",
        "\n",
        "\n",
        "\n"
      ],
      "execution_count": 8,
      "outputs": [
        {
          "output_type": "stream",
          "name": "stdout",
          "text": [
            "True\n",
            "19\n",
            "3\n"
          ]
        },
        {
          "output_type": "execute_result",
          "data": {
            "text/plain": [
              "20"
            ]
          },
          "metadata": {},
          "execution_count": 8
        }
      ]
    },
    {
      "cell_type": "code",
      "metadata": {
        "id": "U5JrFAbHDZu2"
      },
      "source": [
        "()"
      ],
      "execution_count": null,
      "outputs": []
    }
  ]
}