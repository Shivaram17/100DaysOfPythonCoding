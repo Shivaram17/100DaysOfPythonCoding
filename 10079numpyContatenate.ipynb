{
  "nbformat": 4,
  "nbformat_minor": 0,
  "metadata": {
    "colab": {
      "name": "10079numpyContatenate.ipynb",
      "provenance": [],
      "collapsed_sections": [],
      "authorship_tag": "ABX9TyNAGaIgbqFbHM4D+7uTOy6T",
      "include_colab_link": true
    },
    "kernelspec": {
      "name": "python3",
      "display_name": "Python 3"
    },
    "language_info": {
      "name": "python"
    }
  },
  "cells": [
    {
      "cell_type": "markdown",
      "metadata": {
        "id": "view-in-github",
        "colab_type": "text"
      },
      "source": [
        "<a href=\"https://colab.research.google.com/github/Shivaram17/100DaysOfPythonCoding/blob/main/10079numpyContatenate.ipynb\" target=\"_parent\"><img src=\"https://colab.research.google.com/assets/colab-badge.svg\" alt=\"Open In Colab\"/></a>"
      ]
    },
    {
      "cell_type": "code",
      "source": [
        "# # web scraping for - Opening several Google search results.\n",
        "# import requests\n",
        "# import bs4, webbrowser, sys\n",
        "\n",
        "# print(\"Googling....\")#display google while retrieving google search bar\n",
        "# res = requests.get('https://www.google.com/search?q=' + ' '.join(sys.argv[1:]))\n",
        "# res.raise_for_status()\n",
        "# #TODO Retrieve top search result links\n",
        "# soup = bs4.BeautifulSoup(res.text, features=\"html.parser\")\n",
        "\n",
        "# #TODO open a browser tab for each result\n",
        "# linkElems = soup.select('.r a')\n",
        "# numOpen = min(5, len(linkElems))\n",
        "# for i in range(numOpen):\n",
        "#   webbrowser.open('http//google.com' + linkElems[i].get('href'))"
      ],
      "metadata": {
        "id": "7clEkNWGYGeo"
      },
      "execution_count": null,
      "outputs": []
    },
    {
      "cell_type": "code",
      "source": [
        "import numpy as np\n",
        "arr1 = np.array([1,2,4])\n",
        "arr2 = np.array([5,6,7])\n",
        "arr3 = np.concatenate((arr1, arr2))\n",
        "arr3"
      ],
      "metadata": {
        "id": "5LCevs9DVawq",
        "colab": {
          "base_uri": "https://localhost:8080/"
        },
        "outputId": "d4bbcd6c-9f76-4b13-a2d7-5d1993804f7f"
      },
      "execution_count": 3,
      "outputs": [
        {
          "output_type": "execute_result",
          "data": {
            "text/plain": [
              "array([1, 2, 4, 5, 6, 7])"
            ]
          },
          "metadata": {},
          "execution_count": 3
        }
      ]
    },
    {
      "cell_type": "code",
      "source": [
        ""
      ],
      "metadata": {
        "id": "9NNN38aDgRl2"
      },
      "execution_count": null,
      "outputs": []
    }
  ]
}