{
  "nbformat": 4,
  "nbformat_minor": 0,
  "metadata": {
    "colab": {
      "name": "10044IteratorImplementation.ipynb",
      "provenance": [],
      "authorship_tag": "ABX9TyP5G0rTJBspioaj3UmFFUdr",
      "include_colab_link": true
    },
    "kernelspec": {
      "name": "python3",
      "display_name": "Python 3"
    },
    "language_info": {
      "name": "python"
    }
  },
  "cells": [
    {
      "cell_type": "markdown",
      "metadata": {
        "id": "view-in-github",
        "colab_type": "text"
      },
      "source": [
        "<a href=\"https://colab.research.google.com/github/Shivaram17/100DaysOfPythonCoding/blob/main/10044IteratorImplementation.ipynb\" target=\"_parent\"><img src=\"https://colab.research.google.com/assets/colab-badge.svg\" alt=\"Open In Colab\"/></a>"
      ]
    },
    {
      "cell_type": "code",
      "metadata": {
        "colab": {
          "base_uri": "https://localhost:8080/"
        },
        "id": "ZHLwi1EdDQSq",
        "outputId": "d3b48112-72bc-4bc4-c759-dbe68c6ec70c"
      },
      "source": [
        "# # python Inheritance\n",
        "# class Person:\n",
        "#   def __init__(self, fname, lname):\n",
        "#     self.fname = fname\n",
        "#     self.lname = lname\n",
        "\n",
        "#   def printName(self):\n",
        "#     print(self.fname, self.lname)\n",
        "\n",
        "# #calling person class\n",
        "# a = Person(\"Mike\", \"Osen\")\n",
        "# a.printName()\n",
        "\n",
        "# #creating a child class and acessing the parent class\n",
        "# class Student(Person):\n",
        "#   pass\n",
        "\n",
        "# #calling child class\n",
        "# b = Student(\"Henrich\", \"Klassen\")\n",
        "# b.printName()\n",
        "\n",
        "#Python iterators\n",
        "mystr = \"Mango\"\n",
        "myitr = iter(mystr)\n",
        "\n",
        "print(next(myitr))\n",
        "print(next(myitr))\n",
        "print(next(myitr))\n",
        "print(next(myitr))\n",
        "print(next(myitr))\n"
      ],
      "execution_count": 1,
      "outputs": [
        {
          "output_type": "stream",
          "name": "stdout",
          "text": [
            "M\n",
            "a\n",
            "n\n",
            "g\n",
            "o\n"
          ]
        }
      ]
    },
    {
      "cell_type": "code",
      "metadata": {
        "id": "oFe1poXVY22g"
      },
      "source": [
        ""
      ],
      "execution_count": null,
      "outputs": []
    }
  ]
}